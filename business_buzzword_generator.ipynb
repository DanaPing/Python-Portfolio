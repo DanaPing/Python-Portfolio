{
  "nbformat": 4,
  "nbformat_minor": 5,
  "metadata": {
    "kernelspec": {
      "display_name": "Python 3 (ipykernel)",
      "language": "python",
      "name": "python3"
    },
    "language_info": {
      "codemirror_mode": {
        "name": "ipython",
        "version": 3
      },
      "file_extension": ".py",
      "mimetype": "text/x-python",
      "name": "python",
      "nbconvert_exporter": "python",
      "pygments_lexer": "ipython3",
      "version": "3.9.6"
    },
    "colab": {
      "name": "business_buzzword_generator.ipynb",
      "provenance": [],
      "include_colab_link": true
    }
  },
  "cells": [
    {
      "cell_type": "markdown",
      "metadata": {
        "id": "view-in-github",
        "colab_type": "text"
      },
      "source": [
        "<a href=\"https://colab.research.google.com/github/michael-borck/ISYS5002_portfolio/blob/main/business_buzzword_generator.ipynb\" target=\"_parent\"><img src=\"https://colab.research.google.com/assets/colab-badge.svg\" alt=\"Open In Colab\"/></a>"
      ]
    },
    {
      "cell_type": "markdown",
      "metadata": {
        "id": "f8b21259-c1a0-4ecb-a02f-e35565841067"
      },
      "source": [
        "# Business Buzzword Generator\n",
        "\n",
        "Lets write a real-world business application using Python.   Want to write a program to genrate business phrases.  The program takes three lists of words, randomly picks one word from each list, combines the words into a phrase, and then prints out the phrase. Here is the psuedocode:\n",
        "\n",
        "    importing the random module\n",
        "    make three lists, one of buzzword, one of actions, and one of outcomes\n",
        "    randomly choose one buzzword, action, and outcome from each list\n",
        "    now build the phrase by \"adding\" the words together\n",
        "    output the phrase\n",
        "    \n",
        "A good use of pseudocode is each line becomes comments in the code. Each line of pseudo code has been pasted into a cell below.  Try to implement each as python statement or statements."
      ],
      "id": "f8b21259-c1a0-4ecb-a02f-e35565841067"
    },
    {
      "cell_type": "code",
      "metadata": {
        "colab": {
          "base_uri": "https://localhost:8080/"
        },
        "id": "6b9a2fc6-f8ae-4778-a5e7-9659136091fd",
        "outputId": "ac5d7b7a-2880-4e5f-fc58-af994951112f"
      },
      "source": [
        "# importing the random module\n",
        "import random\n",
        "\n",
        "#  make three lists, one of verbs, one of adjectives, and one of nouns\n",
        "verbs = ['actualize', 'administrate', 'aggregate']\n",
        "adjectives = ['accurate', 'adaptive', 'agile']\n",
        "nouns = ['content', 'convergence', 'core competencies']\n",
        "\n",
        "# randomly choose one buzzword, action, and outcome from each list\n",
        "verb = random.choice(verbs)\n",
        "adjective = random.choice(adjectives)\n",
        "noun = random.choice(nouns)\n",
        "\n",
        "# build the phrase by \"adding\" the words together\n",
        "phrase = verb + ' ' + adjective + ' ' + noun\n",
        "\n",
        "# output the phrase\n",
        "print(phrase)"
      ],
      "id": "6b9a2fc6-f8ae-4778-a5e7-9659136091fd",
      "execution_count": null,
      "outputs": [
        {
          "output_type": "stream",
          "text": [
            "aggregate agile core competencies\n"
          ],
          "name": "stdout"
        }
      ]
    }
  ]
}