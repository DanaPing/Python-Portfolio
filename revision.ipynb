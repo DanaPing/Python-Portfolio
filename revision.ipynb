{
  "nbformat": 4,
  "nbformat_minor": 0,
  "metadata": {
    "colab": {
      "name": "revision.ipynb",
      "provenance": [],
      "authorship_tag": "ABX9TyOr0R7fiYKsiFyce6I9QLvw",
      "include_colab_link": true
    },
    "kernelspec": {
      "name": "python3",
      "display_name": "Python 3"
    },
    "language_info": {
      "name": "python"
    }
  },
  "cells": [
    {
      "cell_type": "markdown",
      "metadata": {
        "id": "view-in-github",
        "colab_type": "text"
      },
      "source": [
        "<a href=\"https://colab.research.google.com/github/michael-borck/ISYS5002_portfolio/blob/main/revision.ipynb\" target=\"_parent\"><img src=\"https://colab.research.google.com/assets/colab-badge.svg\" alt=\"Open In Colab\"/></a>"
      ]
    },
    {
      "cell_type": "markdown",
      "metadata": {
        "id": "QRYHAern9_AF"
      },
      "source": [
        ""
      ]
    },
    {
      "cell_type": "markdown",
      "metadata": {
        "id": "mwqSK7zF-Eac"
      },
      "source": [
        "# Exception\n",
        "\n",
        "* try\n",
        "* except\n",
        "* finaly\n",
        "\n",
        "Useful\n",
        "* file i/o\n",
        "* web scraping\n",
        "* databases"
      ]
    },
    {
      "cell_type": "code",
      "metadata": {
        "colab": {
          "base_uri": "https://localhost:8080/"
        },
        "id": "0NtmzMUd9vtP",
        "outputId": "dae617d9-637e-4dcf-e029-6307259d4b08"
      },
      "source": [
        "try:\n",
        "  num1 = int(input(\"Please input a number \"))\n",
        "  num2 = int(input(\"Please input another number\"))\n",
        "  print(\"Num1 divided by Num2 is \" + str(num1/num2))\n",
        "except TypeError as e:\n",
        "  print(e)\n",
        "except ValueError as e:\n",
        "  print(\"Please only type in digits, not letters\")\n",
        "  print(e)\n",
        "except ZeroDivisionError:\n",
        "  print(\"The second number cannot be zero \")\n"
      ],
      "execution_count": 10,
      "outputs": [
        {
          "output_type": "stream",
          "name": "stdout",
          "text": [
            "Please input a number 11\n",
            "Please input another number1\n",
            "Num1 divided by Num2 is 11.0\n"
          ]
        }
      ]
    },
    {
      "cell_type": "code",
      "metadata": {
        "colab": {
          "base_uri": "https://localhost:8080/"
        },
        "id": "Ec0BrLw_A3_Y",
        "outputId": "a74c0dd3-856b-4f62-cd46-769c0926c7e3"
      },
      "source": [
        "try:\n",
        "  num1 = int(input(\"Please input a number \"))\n",
        "  num2 = int(input(\"Please input another number \"))\n",
        "  print(\"Num1 divided by Num2 is \" + str(num1/num2))\n",
        "except Exception as e:\n",
        "  print(e)\n",
        "  \n"
      ],
      "execution_count": 12,
      "outputs": [
        {
          "output_type": "stream",
          "name": "stdout",
          "text": [
            "Please input a number 11\n",
            "Please input another number0\n",
            "division by zero\n"
          ]
        }
      ]
    },
    {
      "cell_type": "code",
      "metadata": {
        "colab": {
          "base_uri": "https://localhost:8080/"
        },
        "id": "0JYWAbLzBKPi",
        "outputId": "16646313-a403-4bae-9ed6-9dc34a4fb66d"
      },
      "source": [
        "# There is an error on the following line, Need to do more research to work out how to fix\n",
        "# num1 = int(input(\"Please input a number \"))\n",
        "num1 = 10\n",
        "num2 = int(input(\"Please input another number \"))\n",
        "print(\"Num1 divided by Num2 is \" + str(num1/num2))"
      ],
      "execution_count": 14,
      "outputs": [
        {
          "output_type": "stream",
          "name": "stdout",
          "text": [
            "Please input another number 2\n",
            "Num1 divided by Num2 is 5.0\n"
          ]
        }
      ]
    },
    {
      "cell_type": "markdown",
      "metadata": {
        "id": "WycihVWL-LJJ"
      },
      "source": [
        "# Web Scraping Tables"
      ]
    },
    {
      "cell_type": "code",
      "metadata": {
        "id": "NnFvxKnY-OEL"
      },
      "source": [
        ""
      ],
      "execution_count": null,
      "outputs": []
    }
  ]
}