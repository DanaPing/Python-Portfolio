{
  "nbformat": 4,
  "nbformat_minor": 0,
  "metadata": {
    "colab": {
      "name": "todo.ipynb",
      "provenance": [],
      "authorship_tag": "ABX9TyMMz5/7W1bDksDBuYOFSsyp",
      "include_colab_link": true
    },
    "kernelspec": {
      "name": "python3",
      "display_name": "Python 3"
    },
    "language_info": {
      "name": "python"
    }
  },
  "cells": [
    {
      "cell_type": "markdown",
      "metadata": {
        "id": "view-in-github",
        "colab_type": "text"
      },
      "source": [
        "<a href=\"https://colab.research.google.com/github/michael-borck/ISYS5002_portfolio/blob/main/todo.ipynb\" target=\"_parent\"><img src=\"https://colab.research.google.com/assets/colab-badge.svg\" alt=\"Open In Colab\"/></a>"
      ]
    },
    {
      "cell_type": "code",
      "metadata": {
        "cellView": "form",
        "id": "WE1fSaFGbYAZ"
      },
      "source": [
        "#@title ToDo\n",
        "#@markdown To start the application, click the play button to the right\n",
        "\n",
        "import ipywidgets as iw\n",
        "import pickle\n",
        "\n",
        "class ToDo:\n",
        "    def __init__(self, load='todo', save=None):\n",
        "        def _add(text):\n",
        "            hb = self._add(text.value)\n",
        "            self._state.append(hb)\n",
        "            self._update()\n",
        "\n",
        "        self._new_title = iw.Text(value='', placeholder='What needs to be done')\n",
        "        self._new_title.on_submit(_add)\n",
        "        self._visible = iw.Dropdown(options=['All', 'Active', 'Complete'])\n",
        "        self._visible.observe(self._update, 'value')\n",
        "        self._state = self._load(load)\n",
        "        \n",
        "        if type(save) is str:\n",
        "            self._save = save\n",
        "        else:\n",
        "            self._save = load\n",
        "\n",
        "        self._list = iw.VBox(self._state)      \n",
        "        self._box = iw.VBox([self._new_title, self._visible, self._list])\n",
        "        \n",
        "    def _load(self, load):\n",
        "        try:\n",
        "            with open(load, 'rb') as f:\n",
        "                state = pickle.load(f)\n",
        "        except FileNotFoundError:\n",
        "            return []\n",
        "        \n",
        "        return [self._add(s['name'], s['done']) for s in state]\n",
        "        \n",
        "    def _add(self, name, done=False):\n",
        "        name = iw.Text(value=name, placeholder='ToDo')\n",
        "        done = iw.ToggleButton(value=done, description='Done')\n",
        "        done.observe(self._update, 'value')\n",
        "        delete = iw.Button(description='Delete')\n",
        "        delete.on_click(self._delete)\n",
        "        hb = iw.HBox([name, done, delete])\n",
        "        delete.hb = hb\n",
        "        self._new_title.value = ''\n",
        "        return hb\n",
        "    \n",
        "    def _delete(self, button):\n",
        "        i = self._state.index(button.hb)\n",
        "        del self._state[i]\n",
        "        self._update()\n",
        "        \n",
        "    def _update(self, change=None):\n",
        "        if self._visible.value == 'All':\n",
        "            self._list.children = self._state\n",
        "        elif self._visible.value == 'Active':\n",
        "            self._list.children = [s for s in self._state if not s.children[1].value]\n",
        "        else:\n",
        "            self._list.children = [s for s in self._state if s.children[1].value]\n",
        "\n",
        "        state = [{'name': s.children[0].value, 'done': s.children[1].value}\n",
        "                 for s in self._state]\n",
        "        with open(self._save, 'wb') as f:\n",
        "            pickle.dump(state, f)\n",
        "            \n",
        "    def _ipython_display_(self):\n",
        "        self._box._ipython_display_()\n",
        "\n",
        "\n",
        "todo = ToDo()\n",
        "todo"
      ],
      "execution_count": null,
      "outputs": []
    }
  ]
}