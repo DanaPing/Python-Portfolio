{
  "nbformat": 4,
  "nbformat_minor": 0,
  "metadata": {
    "colab": {
      "name": "asx_stock_gui.ipynb",
      "provenance": [],
      "include_colab_link": true
    },
    "kernelspec": {
      "name": "python3",
      "display_name": "Python 3"
    },
    "language_info": {
      "name": "python"
    },
    "widgets": {
      "application/vnd.jupyter.widget-state+json": {
        "07a83c953f894eeab353039afef76e39": {
          "model_module": "@jupyter-widgets/controls",
          "model_name": "VBoxModel",
          "model_module_version": "1.5.0",
          "state": {
            "_view_name": "VBoxView",
            "_dom_classes": [
              "widget-interact"
            ],
            "_model_name": "VBoxModel",
            "_view_module": "@jupyter-widgets/controls",
            "_model_module_version": "1.5.0",
            "_view_count": null,
            "_view_module_version": "1.5.0",
            "box_style": "",
            "layout": "IPY_MODEL_9cdcb431521544ac9df11194757e1190",
            "_model_module": "@jupyter-widgets/controls",
            "children": [
              "IPY_MODEL_23948e36356c4a8687261b4ec71cde3a",
              "IPY_MODEL_de9f3c4e04df4680bb47e337e4805185",
              "IPY_MODEL_60fba3ff541a49288b9622ea3897520d",
              "IPY_MODEL_b9288cc70d2c449cb5cecd8df97efa2c",
              "IPY_MODEL_b455d766c60b4dde8fae6800b4140d53",
              "IPY_MODEL_9ad5e965c0a44a2787e75ce3999fe223"
            ]
          }
        },
        "9cdcb431521544ac9df11194757e1190": {
          "model_module": "@jupyter-widgets/base",
          "model_name": "LayoutModel",
          "model_module_version": "1.2.0",
          "state": {
            "_view_name": "LayoutView",
            "grid_template_rows": null,
            "right": null,
            "justify_content": null,
            "_view_module": "@jupyter-widgets/base",
            "overflow": null,
            "_model_module_version": "1.2.0",
            "_view_count": null,
            "flex_flow": null,
            "width": null,
            "min_width": null,
            "border": null,
            "align_items": null,
            "bottom": null,
            "_model_module": "@jupyter-widgets/base",
            "top": null,
            "grid_column": null,
            "overflow_y": null,
            "overflow_x": null,
            "grid_auto_flow": null,
            "grid_area": null,
            "grid_template_columns": null,
            "flex": null,
            "_model_name": "LayoutModel",
            "justify_items": null,
            "grid_row": null,
            "max_height": null,
            "align_content": null,
            "visibility": null,
            "align_self": null,
            "height": null,
            "min_height": null,
            "padding": null,
            "grid_auto_rows": null,
            "grid_gap": null,
            "max_width": null,
            "order": null,
            "_view_module_version": "1.2.0",
            "grid_template_areas": null,
            "object_position": null,
            "object_fit": null,
            "grid_auto_columns": null,
            "margin": null,
            "display": null,
            "left": null
          }
        },
        "23948e36356c4a8687261b4ec71cde3a": {
          "model_module": "@jupyter-widgets/controls",
          "model_name": "DropdownModel",
          "model_module_version": "1.5.0",
          "state": {
            "_options_labels": [
              "NAB.AX",
              "WBC.AX",
              "ANZ.AX",
              "CBA.AX"
            ],
            "_view_name": "DropdownView",
            "style": "IPY_MODEL_548aff2a791b487e93fe7a593851cdce",
            "_dom_classes": [],
            "description": "Company",
            "_model_name": "DropdownModel",
            "index": 1,
            "_view_module": "@jupyter-widgets/controls",
            "_model_module_version": "1.5.0",
            "_view_count": null,
            "disabled": false,
            "_view_module_version": "1.5.0",
            "description_tooltip": null,
            "_model_module": "@jupyter-widgets/controls",
            "layout": "IPY_MODEL_fc0e7a8879d54411b84b36d16e5a57ed"
          }
        },
        "de9f3c4e04df4680bb47e337e4805185": {
          "model_module": "@jupyter-widgets/controls",
          "model_name": "DatePickerModel",
          "model_module_version": "1.5.0",
          "state": {
            "_view_name": "DatePickerView",
            "style": "IPY_MODEL_5f28564db0b444a8b24b22f51e22ea7e",
            "_dom_classes": [],
            "description": "Start Date:",
            "_model_name": "DatePickerModel",
            "_view_module": "@jupyter-widgets/controls",
            "_model_module_version": "1.5.0",
            "value": {
              "date": 1,
              "month": 0,
              "year": 2021
            },
            "_view_count": null,
            "disabled": false,
            "_view_module_version": "1.5.0",
            "description_tooltip": null,
            "_model_module": "@jupyter-widgets/controls",
            "layout": "IPY_MODEL_810dc0cac9394a89936dd1457643cb43"
          }
        },
        "60fba3ff541a49288b9622ea3897520d": {
          "model_module": "@jupyter-widgets/controls",
          "model_name": "DatePickerModel",
          "model_module_version": "1.5.0",
          "state": {
            "_view_name": "DatePickerView",
            "style": "IPY_MODEL_4a694f26321a4d58a057e43ea9430719",
            "_dom_classes": [],
            "description": "End Date:",
            "_model_name": "DatePickerModel",
            "_view_module": "@jupyter-widgets/controls",
            "_model_module_version": "1.5.0",
            "value": {
              "date": 20,
              "month": 9,
              "year": 2021
            },
            "_view_count": null,
            "disabled": false,
            "_view_module_version": "1.5.0",
            "description_tooltip": null,
            "_model_module": "@jupyter-widgets/controls",
            "layout": "IPY_MODEL_76c42bcf097544f8aed323e8924c4ce6"
          }
        },
        "b9288cc70d2c449cb5cecd8df97efa2c": {
          "model_module": "@jupyter-widgets/controls",
          "model_name": "RadioButtonsModel",
          "model_module_version": "1.5.0",
          "state": {
            "_options_labels": [
              "7",
              "21"
            ],
            "_view_name": "RadioButtonsView",
            "style": "IPY_MODEL_8109ab473fff45e690b626208276f6c5",
            "_dom_classes": [],
            "description": "SMA Days",
            "_model_name": "RadioButtonsModel",
            "index": 1,
            "_view_module": "@jupyter-widgets/controls",
            "_model_module_version": "1.5.0",
            "_view_count": null,
            "disabled": false,
            "_view_module_version": "1.5.0",
            "description_tooltip": null,
            "_model_module": "@jupyter-widgets/controls",
            "layout": "IPY_MODEL_f1457c4bdc9a464b9c7467634f60b4c1"
          }
        },
        "b455d766c60b4dde8fae6800b4140d53": {
          "model_module": "@jupyter-widgets/controls",
          "model_name": "CheckboxModel",
          "model_module_version": "1.5.0",
          "state": {
            "_view_name": "CheckboxView",
            "style": "IPY_MODEL_6342fb2dc38245b396dafca43405e1b4",
            "_dom_classes": [],
            "description": "Show Moving Average",
            "_model_name": "CheckboxModel",
            "_view_module": "@jupyter-widgets/controls",
            "_model_module_version": "1.5.0",
            "value": false,
            "_view_count": null,
            "disabled": false,
            "_view_module_version": "1.5.0",
            "indent": true,
            "description_tooltip": null,
            "_model_module": "@jupyter-widgets/controls",
            "layout": "IPY_MODEL_a774d7c0a4564214812c8a02a3338d35"
          }
        },
        "9ad5e965c0a44a2787e75ce3999fe223": {
          "model_module": "@jupyter-widgets/output",
          "model_name": "OutputModel",
          "model_module_version": "1.0.0",
          "state": {
            "_view_name": "OutputView",
            "msg_id": "",
            "_dom_classes": [],
            "_model_name": "OutputModel",
            "outputs": [
              {
                "output_type": "display_data",
                "data": {
                  "image/png": "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\n",
                  "text/plain": "<Figure size 864x504 with 1 Axes>"
                },
                "metadata": {
                  "needs_background": "light"
                }
              }
            ],
            "_view_module": "@jupyter-widgets/output",
            "_model_module_version": "1.0.0",
            "_view_count": null,
            "_view_module_version": "1.0.0",
            "layout": "IPY_MODEL_e6b8e6b5737649dd882b1e8ab7856c20",
            "_model_module": "@jupyter-widgets/output"
          }
        },
        "548aff2a791b487e93fe7a593851cdce": {
          "model_module": "@jupyter-widgets/controls",
          "model_name": "DescriptionStyleModel",
          "model_module_version": "1.5.0",
          "state": {
            "_view_name": "StyleView",
            "_model_name": "DescriptionStyleModel",
            "description_width": "",
            "_view_module": "@jupyter-widgets/base",
            "_model_module_version": "1.5.0",
            "_view_count": null,
            "_view_module_version": "1.2.0",
            "_model_module": "@jupyter-widgets/controls"
          }
        },
        "fc0e7a8879d54411b84b36d16e5a57ed": {
          "model_module": "@jupyter-widgets/base",
          "model_name": "LayoutModel",
          "model_module_version": "1.2.0",
          "state": {
            "_view_name": "LayoutView",
            "grid_template_rows": null,
            "right": null,
            "justify_content": null,
            "_view_module": "@jupyter-widgets/base",
            "overflow": null,
            "_model_module_version": "1.2.0",
            "_view_count": null,
            "flex_flow": null,
            "width": null,
            "min_width": null,
            "border": null,
            "align_items": null,
            "bottom": null,
            "_model_module": "@jupyter-widgets/base",
            "top": null,
            "grid_column": null,
            "overflow_y": null,
            "overflow_x": null,
            "grid_auto_flow": null,
            "grid_area": null,
            "grid_template_columns": null,
            "flex": null,
            "_model_name": "LayoutModel",
            "justify_items": null,
            "grid_row": null,
            "max_height": null,
            "align_content": null,
            "visibility": null,
            "align_self": null,
            "height": null,
            "min_height": null,
            "padding": null,
            "grid_auto_rows": null,
            "grid_gap": null,
            "max_width": null,
            "order": null,
            "_view_module_version": "1.2.0",
            "grid_template_areas": null,
            "object_position": null,
            "object_fit": null,
            "grid_auto_columns": null,
            "margin": null,
            "display": null,
            "left": null
          }
        },
        "5f28564db0b444a8b24b22f51e22ea7e": {
          "model_module": "@jupyter-widgets/controls",
          "model_name": "DescriptionStyleModel",
          "model_module_version": "1.5.0",
          "state": {
            "_view_name": "StyleView",
            "_model_name": "DescriptionStyleModel",
            "description_width": "",
            "_view_module": "@jupyter-widgets/base",
            "_model_module_version": "1.5.0",
            "_view_count": null,
            "_view_module_version": "1.2.0",
            "_model_module": "@jupyter-widgets/controls"
          }
        },
        "810dc0cac9394a89936dd1457643cb43": {
          "model_module": "@jupyter-widgets/base",
          "model_name": "LayoutModel",
          "model_module_version": "1.2.0",
          "state": {
            "_view_name": "LayoutView",
            "grid_template_rows": null,
            "right": null,
            "justify_content": null,
            "_view_module": "@jupyter-widgets/base",
            "overflow": null,
            "_model_module_version": "1.2.0",
            "_view_count": null,
            "flex_flow": null,
            "width": null,
            "min_width": null,
            "border": null,
            "align_items": null,
            "bottom": null,
            "_model_module": "@jupyter-widgets/base",
            "top": null,
            "grid_column": null,
            "overflow_y": null,
            "overflow_x": null,
            "grid_auto_flow": null,
            "grid_area": null,
            "grid_template_columns": null,
            "flex": null,
            "_model_name": "LayoutModel",
            "justify_items": null,
            "grid_row": null,
            "max_height": null,
            "align_content": null,
            "visibility": null,
            "align_self": null,
            "height": null,
            "min_height": null,
            "padding": null,
            "grid_auto_rows": null,
            "grid_gap": null,
            "max_width": null,
            "order": null,
            "_view_module_version": "1.2.0",
            "grid_template_areas": null,
            "object_position": null,
            "object_fit": null,
            "grid_auto_columns": null,
            "margin": null,
            "display": null,
            "left": null
          }
        },
        "4a694f26321a4d58a057e43ea9430719": {
          "model_module": "@jupyter-widgets/controls",
          "model_name": "DescriptionStyleModel",
          "model_module_version": "1.5.0",
          "state": {
            "_view_name": "StyleView",
            "_model_name": "DescriptionStyleModel",
            "description_width": "",
            "_view_module": "@jupyter-widgets/base",
            "_model_module_version": "1.5.0",
            "_view_count": null,
            "_view_module_version": "1.2.0",
            "_model_module": "@jupyter-widgets/controls"
          }
        },
        "76c42bcf097544f8aed323e8924c4ce6": {
          "model_module": "@jupyter-widgets/base",
          "model_name": "LayoutModel",
          "model_module_version": "1.2.0",
          "state": {
            "_view_name": "LayoutView",
            "grid_template_rows": null,
            "right": null,
            "justify_content": null,
            "_view_module": "@jupyter-widgets/base",
            "overflow": null,
            "_model_module_version": "1.2.0",
            "_view_count": null,
            "flex_flow": null,
            "width": null,
            "min_width": null,
            "border": null,
            "align_items": null,
            "bottom": null,
            "_model_module": "@jupyter-widgets/base",
            "top": null,
            "grid_column": null,
            "overflow_y": null,
            "overflow_x": null,
            "grid_auto_flow": null,
            "grid_area": null,
            "grid_template_columns": null,
            "flex": null,
            "_model_name": "LayoutModel",
            "justify_items": null,
            "grid_row": null,
            "max_height": null,
            "align_content": null,
            "visibility": null,
            "align_self": null,
            "height": null,
            "min_height": null,
            "padding": null,
            "grid_auto_rows": null,
            "grid_gap": null,
            "max_width": null,
            "order": null,
            "_view_module_version": "1.2.0",
            "grid_template_areas": null,
            "object_position": null,
            "object_fit": null,
            "grid_auto_columns": null,
            "margin": null,
            "display": null,
            "left": null
          }
        },
        "8109ab473fff45e690b626208276f6c5": {
          "model_module": "@jupyter-widgets/controls",
          "model_name": "DescriptionStyleModel",
          "model_module_version": "1.5.0",
          "state": {
            "_view_name": "StyleView",
            "_model_name": "DescriptionStyleModel",
            "description_width": "",
            "_view_module": "@jupyter-widgets/base",
            "_model_module_version": "1.5.0",
            "_view_count": null,
            "_view_module_version": "1.2.0",
            "_model_module": "@jupyter-widgets/controls"
          }
        },
        "f1457c4bdc9a464b9c7467634f60b4c1": {
          "model_module": "@jupyter-widgets/base",
          "model_name": "LayoutModel",
          "model_module_version": "1.2.0",
          "state": {
            "_view_name": "LayoutView",
            "grid_template_rows": null,
            "right": null,
            "justify_content": null,
            "_view_module": "@jupyter-widgets/base",
            "overflow": null,
            "_model_module_version": "1.2.0",
            "_view_count": null,
            "flex_flow": null,
            "width": null,
            "min_width": null,
            "border": null,
            "align_items": null,
            "bottom": null,
            "_model_module": "@jupyter-widgets/base",
            "top": null,
            "grid_column": null,
            "overflow_y": null,
            "overflow_x": null,
            "grid_auto_flow": null,
            "grid_area": null,
            "grid_template_columns": null,
            "flex": null,
            "_model_name": "LayoutModel",
            "justify_items": null,
            "grid_row": null,
            "max_height": null,
            "align_content": null,
            "visibility": null,
            "align_self": null,
            "height": null,
            "min_height": null,
            "padding": null,
            "grid_auto_rows": null,
            "grid_gap": null,
            "max_width": null,
            "order": null,
            "_view_module_version": "1.2.0",
            "grid_template_areas": null,
            "object_position": null,
            "object_fit": null,
            "grid_auto_columns": null,
            "margin": null,
            "display": null,
            "left": null
          }
        },
        "6342fb2dc38245b396dafca43405e1b4": {
          "model_module": "@jupyter-widgets/controls",
          "model_name": "DescriptionStyleModel",
          "model_module_version": "1.5.0",
          "state": {
            "_view_name": "StyleView",
            "_model_name": "DescriptionStyleModel",
            "description_width": "",
            "_view_module": "@jupyter-widgets/base",
            "_model_module_version": "1.5.0",
            "_view_count": null,
            "_view_module_version": "1.2.0",
            "_model_module": "@jupyter-widgets/controls"
          }
        },
        "a774d7c0a4564214812c8a02a3338d35": {
          "model_module": "@jupyter-widgets/base",
          "model_name": "LayoutModel",
          "model_module_version": "1.2.0",
          "state": {
            "_view_name": "LayoutView",
            "grid_template_rows": null,
            "right": null,
            "justify_content": null,
            "_view_module": "@jupyter-widgets/base",
            "overflow": null,
            "_model_module_version": "1.2.0",
            "_view_count": null,
            "flex_flow": null,
            "width": null,
            "min_width": null,
            "border": null,
            "align_items": null,
            "bottom": null,
            "_model_module": "@jupyter-widgets/base",
            "top": null,
            "grid_column": null,
            "overflow_y": null,
            "overflow_x": null,
            "grid_auto_flow": null,
            "grid_area": null,
            "grid_template_columns": null,
            "flex": null,
            "_model_name": "LayoutModel",
            "justify_items": null,
            "grid_row": null,
            "max_height": null,
            "align_content": null,
            "visibility": null,
            "align_self": null,
            "height": null,
            "min_height": null,
            "padding": null,
            "grid_auto_rows": null,
            "grid_gap": null,
            "max_width": null,
            "order": null,
            "_view_module_version": "1.2.0",
            "grid_template_areas": null,
            "object_position": null,
            "object_fit": null,
            "grid_auto_columns": null,
            "margin": null,
            "display": null,
            "left": null
          }
        },
        "e6b8e6b5737649dd882b1e8ab7856c20": {
          "model_module": "@jupyter-widgets/base",
          "model_name": "LayoutModel",
          "model_module_version": "1.2.0",
          "state": {
            "_view_name": "LayoutView",
            "grid_template_rows": null,
            "right": null,
            "justify_content": null,
            "_view_module": "@jupyter-widgets/base",
            "overflow": null,
            "_model_module_version": "1.2.0",
            "_view_count": null,
            "flex_flow": null,
            "width": null,
            "min_width": null,
            "border": null,
            "align_items": null,
            "bottom": null,
            "_model_module": "@jupyter-widgets/base",
            "top": null,
            "grid_column": null,
            "overflow_y": null,
            "overflow_x": null,
            "grid_auto_flow": null,
            "grid_area": null,
            "grid_template_columns": null,
            "flex": null,
            "_model_name": "LayoutModel",
            "justify_items": null,
            "grid_row": null,
            "max_height": null,
            "align_content": null,
            "visibility": null,
            "align_self": null,
            "height": null,
            "min_height": null,
            "padding": null,
            "grid_auto_rows": null,
            "grid_gap": null,
            "max_width": null,
            "order": null,
            "_view_module_version": "1.2.0",
            "grid_template_areas": null,
            "object_position": null,
            "object_fit": null,
            "grid_auto_columns": null,
            "margin": null,
            "display": null,
            "left": null
          }
        }
      }
    }
  },
  "cells": [
    {
      "cell_type": "markdown",
      "metadata": {
        "id": "view-in-github",
        "colab_type": "text"
      },
      "source": [
        "<a href=\"https://colab.research.google.com/github/michael-borck/ISYS5002_portfolio/blob/main/asx_stock_gui.ipynb\" target=\"_parent\"><img src=\"https://colab.research.google.com/assets/colab-badge.svg\" alt=\"Open In Colab\"/></a>"
      ]
    },
    {
      "cell_type": "markdown",
      "metadata": {
        "id": "ockqq2AzultE"
      },
      "source": [
        "# Stock Market GUI"
      ]
    },
    {
      "cell_type": "code",
      "metadata": {
        "id": "65AKEsMMj7l2",
        "colab": {
          "base_uri": "https://localhost:8080/",
          "height": 633,
          "referenced_widgets": [
            "07a83c953f894eeab353039afef76e39",
            "9cdcb431521544ac9df11194757e1190",
            "23948e36356c4a8687261b4ec71cde3a",
            "de9f3c4e04df4680bb47e337e4805185",
            "60fba3ff541a49288b9622ea3897520d",
            "b9288cc70d2c449cb5cecd8df97efa2c",
            "b455d766c60b4dde8fae6800b4140d53",
            "9ad5e965c0a44a2787e75ce3999fe223",
            "548aff2a791b487e93fe7a593851cdce",
            "fc0e7a8879d54411b84b36d16e5a57ed",
            "5f28564db0b444a8b24b22f51e22ea7e",
            "810dc0cac9394a89936dd1457643cb43",
            "4a694f26321a4d58a057e43ea9430719",
            "76c42bcf097544f8aed323e8924c4ce6",
            "8109ab473fff45e690b626208276f6c5",
            "f1457c4bdc9a464b9c7467634f60b4c1",
            "6342fb2dc38245b396dafca43405e1b4",
            "a774d7c0a4564214812c8a02a3338d35",
            "e6b8e6b5737649dd882b1e8ab7856c20"
          ]
        },
        "cellView": "form",
        "outputId": "1525d3a0-204d-42f3-e563-b79adb9f7146"
      },
      "source": [
        "#@title Click play button to run\n",
        "import pandas as pd\n",
        "import matplotlib.pyplot as plt\n",
        "from pandas_datareader import data as pdr\n",
        "import ipywidgets as widget\n",
        "from datetime import date\n",
        "\n",
        "\n",
        "# Work around for Yahoo Finance\n",
        "!pip install yfinance -q\n",
        "import yfinance as yfin\n",
        "yfin.pdr_override()\n",
        "\n",
        "# Setup Widgets\n",
        "start = widget.DatePicker(description='Start Date:', disabled=False, value=date(2021,1,1))\n",
        "end = widget.DatePicker(description='End Date:', disabled=False, value=date.today())\n",
        "companies = ['NAB.AX','WBC.AX','ANZ.AX','CBA.AX']\n",
        "company = widget.Dropdown(options=companies, value=companies[-1], description='Company')\n",
        "show_sma = widget.Checkbox(description='Show Moving Average', value=True, disabled=False)\n",
        "sma = widget.RadioButtons( options=[7, 21,], description ='SMA Days',disabled=False)\n",
        "\n",
        "# setup callback\n",
        "def plot_fun(ticker, start, end, sma, show_sma):\n",
        "  df = pdr.get_data_yahoo(ticker,start,end, progress=False)\n",
        "  close = df['Close']\n",
        "  close.plot(figsize=(12,7))\n",
        "  if show_sma:\n",
        "    ma = close.rolling(sma).mean()\n",
        "    ma.plot()\n",
        "  \n",
        "\n",
        "# lets interact with plot\n",
        "widget.interact(plot_fun, \n",
        "                ticker = company, \n",
        "                start = start, \n",
        "                end = end, \n",
        "                sma=sma, \n",
        "                show_sma=show_sma)"
      ],
      "execution_count": 35,
      "outputs": [
        {
          "output_type": "display_data",
          "data": {
            "application/vnd.jupyter.widget-view+json": {
              "model_id": "07a83c953f894eeab353039afef76e39",
              "version_minor": 0,
              "version_major": 2
            },
            "text/plain": [
              "interactive(children=(Dropdown(description='Company', index=3, options=('NAB.AX', 'WBC.AX', 'ANZ.AX', 'CBA.AX'…"
            ]
          },
          "metadata": {}
        },
        {
          "output_type": "execute_result",
          "data": {
            "text/plain": [
              "<function __main__.plot_fun>"
            ]
          },
          "metadata": {},
          "execution_count": 35
        }
      ]
    },
    {
      "cell_type": "code",
      "metadata": {
        "id": "eKW5CjYZ22bs"
      },
      "source": [
        ""
      ],
      "execution_count": null,
      "outputs": []
    }
  ]
}