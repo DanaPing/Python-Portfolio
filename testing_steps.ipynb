{
  "nbformat": 4,
  "nbformat_minor": 0,
  "metadata": {
    "colab": {
      "name": "testing_steps.ipynb",
      "provenance": [],
      "include_colab_link": true
    },
    "kernelspec": {
      "name": "python3",
      "display_name": "Python 3"
    },
    "language_info": {
      "name": "python"
    }
  },
  "cells": [
    {
      "cell_type": "markdown",
      "metadata": {
        "id": "view-in-github",
        "colab_type": "text"
      },
      "source": [
        "<a href=\"https://colab.research.google.com/github/michael-borck/ISYS5002_portfolio/blob/main/testing_steps.ipynb\" target=\"_parent\"><img src=\"https://colab.research.google.com/assets/colab-badge.svg\" alt=\"Open In Colab\"/></a>"
      ]
    },
    {
      "cell_type": "markdown",
      "metadata": {
        "id": "-xcnFuWmxrX8"
      },
      "source": [
        "# Print Statement"
      ]
    },
    {
      "cell_type": "code",
      "metadata": {
        "id": "mOclZWp9C-Hu"
      },
      "source": [
        "def my_func(x, y, z):\n",
        "    print(\"x = \", x)\n",
        "    return x * y + z\n"
      ],
      "execution_count": null,
      "outputs": []
    },
    {
      "cell_type": "code",
      "metadata": {
        "colab": {
          "base_uri": "https://localhost:8080/"
        },
        "id": "fcvL_E-vDOkn",
        "outputId": "e78716e9-f231-4019-be49-86c868aa23f7"
      },
      "source": [
        "my_func(1,2,3)"
      ],
      "execution_count": null,
      "outputs": [
        {
          "output_type": "stream",
          "name": "stdout",
          "text": [
            "x =  1\n"
          ]
        },
        {
          "output_type": "execute_result",
          "data": {
            "text/plain": [
              "5"
            ]
          },
          "metadata": {},
          "execution_count": 2
        }
      ]
    },
    {
      "cell_type": "markdown",
      "metadata": {
        "id": "qXE7Y3DLDEGd"
      },
      "source": [
        "# Assert statement"
      ]
    },
    {
      "cell_type": "code",
      "metadata": {
        "id": "EmBvrh6q1Kd2"
      },
      "source": [
        "def my_func(x, y, z):\n",
        "    return x * y + z"
      ],
      "execution_count": null,
      "outputs": []
    },
    {
      "cell_type": "code",
      "metadata": {
        "id": "AiW10zSqxxr8"
      },
      "source": [
        "# test result\n",
        "result = my_func(1,1,3)\n",
        "assert result == 4, 'Should be 4'"
      ],
      "execution_count": null,
      "outputs": []
    },
    {
      "cell_type": "code",
      "metadata": {
        "id": "m5-IRoZjx1P4"
      },
      "source": [
        "# test function\n",
        "assert my_func(1,1,3) == 4, 'Should be 4'"
      ],
      "execution_count": null,
      "outputs": []
    },
    {
      "cell_type": "code",
      "metadata": {
        "id": "Rs4kX-Z91jn3",
        "colab": {
          "base_uri": "https://localhost:8080/",
          "height": 183
        },
        "outputId": "c40e02c7-5f7c-4d82-9b7a-914bb7974a32"
      },
      "source": [
        "# test something wrong\n",
        "assert my_func(0,0,0) == 1, 'Should be 0'"
      ],
      "execution_count": null,
      "outputs": [
        {
          "output_type": "error",
          "ename": "AssertionError",
          "evalue": "ignored",
          "traceback": [
            "\u001b[0;31m---------------------------------------------------------------------------\u001b[0m",
            "\u001b[0;31mAssertionError\u001b[0m                            Traceback (most recent call last)",
            "\u001b[0;32m<ipython-input-17-b46a6ada570e>\u001b[0m in \u001b[0;36m<module>\u001b[0;34m()\u001b[0m\n\u001b[1;32m      1\u001b[0m \u001b[0;31m# test something wrong\u001b[0m\u001b[0;34m\u001b[0m\u001b[0;34m\u001b[0m\u001b[0;34m\u001b[0m\u001b[0m\n\u001b[0;32m----> 2\u001b[0;31m \u001b[0;32massert\u001b[0m \u001b[0mmy_func\u001b[0m\u001b[0;34m(\u001b[0m\u001b[0;36m0\u001b[0m\u001b[0;34m,\u001b[0m\u001b[0;36m0\u001b[0m\u001b[0;34m,\u001b[0m\u001b[0;36m0\u001b[0m\u001b[0;34m)\u001b[0m \u001b[0;34m==\u001b[0m \u001b[0;36m1\u001b[0m\u001b[0;34m,\u001b[0m \u001b[0;34m'Should be 0'\u001b[0m\u001b[0;34m\u001b[0m\u001b[0;34m\u001b[0m\u001b[0m\n\u001b[0m",
            "\u001b[0;31mAssertionError\u001b[0m: Should be 0"
          ]
        }
      ]
    },
    {
      "cell_type": "markdown",
      "metadata": {
        "id": "fSejL2YIx3BI"
      },
      "source": [
        "# Write functions\n",
        "\n",
        "Wrap the asert statement inside functions\n",
        "\n",
        "The write a function that call the test functions"
      ]
    },
    {
      "cell_type": "code",
      "metadata": {
        "id": "XJUEKmdBxqU1",
        "colab": {
          "base_uri": "https://localhost:8080/"
        },
        "outputId": "364adbb6-fe8b-45ce-8f53-9480caeaf8c6"
      },
      "source": [
        "def test_my_func_three_numbers():\n",
        "  assert my_func(1,1,3) == 4, 'Should be 4'\n",
        "  assert my_func(1,2,3) == 5, 'Should be 5'\n",
        "\n",
        "def test_my_func_string_number_string():\n",
        "  result = my_func('hello',3,'world')\n",
        "  assert result == 'hello hello hello world', \"Check my_func can handle strings!\"\n",
        "\n",
        "def run_tests():\n",
        "  print(\"Running tests\")\n",
        "  test_my_func_three_numbers()\n",
        "  test_my_func_three_numbers()\n",
        "  print(\"All tests passed\")  \n",
        "\n",
        "run_tests()  "
      ],
      "execution_count": null,
      "outputs": [
        {
          "output_type": "stream",
          "name": "stdout",
          "text": [
            "Running tests\n",
            "All tests passed\n"
          ]
        }
      ]
    },
    {
      "cell_type": "code",
      "metadata": {
        "colab": {
          "base_uri": "https://localhost:8080/",
          "height": 35
        },
        "id": "vA4VuDwHGoFO",
        "outputId": "29102ab4-8131-4a7d-fe28-c4a9f7f1f1ee"
      },
      "source": [
        "my_func('hello ',3,'world')"
      ],
      "execution_count": null,
      "outputs": [
        {
          "output_type": "execute_result",
          "data": {
            "application/vnd.google.colaboratory.intrinsic+json": {
              "type": "string"
            },
            "text/plain": [
              "'hello hello hello world'"
            ]
          },
          "metadata": {},
          "execution_count": 26
        }
      ]
    },
    {
      "cell_type": "markdown",
      "metadata": {
        "id": "651TMRAVx7Ze"
      },
      "source": [
        "## Doctest\n",
        "\n",
        "Best practice comments functions in a doc string.  We can include tests in these docstrings"
      ]
    },
    {
      "cell_type": "code",
      "metadata": {
        "id": "X7mBZEXdYxka"
      },
      "source": [
        "def my_func(x, y, z):\n",
        "    \"\"\"\n",
        "    This function will.....\n",
        "    Parameters:\n",
        "      x: this is to ...\n",
        "      y: this is to ...\n",
        "\n",
        "    >>> my_func(1,2,3)\n",
        "    5\n",
        "    >>> my_func('hello ', 3, 'world')\n",
        "    'hello hello hello world'\n",
        "    >>> my_func(1,1,1)\n",
        "    2\n",
        "    \"\"\"\n",
        "    return x * y + z"
      ],
      "execution_count": null,
      "outputs": []
    },
    {
      "cell_type": "code",
      "metadata": {
        "colab": {
          "base_uri": "https://localhost:8080/"
        },
        "id": "DupSKD_tIB86",
        "outputId": "c6319cf5-af06-4e0c-8243-7a24a2f749bd"
      },
      "source": [
        "help(my_func)"
      ],
      "execution_count": null,
      "outputs": [
        {
          "output_type": "stream",
          "name": "stdout",
          "text": [
            "Help on function my_func in module __main__:\n",
            "\n",
            "my_func(x, y, z)\n",
            "    This function will.....\n",
            "    Parameters:\n",
            "      x: this is to ...\n",
            "      y: this is to ...\n",
            "    \n",
            "    >>> my_func(1,2,3)\n",
            "    5\n",
            "    >>> my_func('hello ', 3, 'world')\n",
            "    'hello hello hello world'\n",
            "    >>> my_func(1,1,1)\n",
            "    1\n",
            "\n"
          ]
        }
      ]
    },
    {
      "cell_type": "code",
      "metadata": {
        "id": "fzNLAyVByVaR",
        "colab": {
          "base_uri": "https://localhost:8080/"
        },
        "outputId": "7f71d1d5-30b9-43e3-957e-7e037391c080"
      },
      "source": [
        "import doctest\n",
        "doctest.testmod()"
      ],
      "execution_count": null,
      "outputs": [
        {
          "output_type": "stream",
          "name": "stdout",
          "text": [
            "**********************************************************************\n",
            "File \"__main__\", line 12, in __main__.my_func\n",
            "Failed example:\n",
            "    my_func(1,1,1)\n",
            "Expected:\n",
            "    1\n",
            "Got:\n",
            "    2\n",
            "**********************************************************************\n",
            "1 items had failures:\n",
            "   1 of   3 in __main__.my_func\n",
            "***Test Failed*** 1 failures.\n"
          ]
        },
        {
          "output_type": "execute_result",
          "data": {
            "text/plain": [
              "TestResults(failed=1, attempted=3)"
            ]
          },
          "metadata": {},
          "execution_count": 36
        }
      ]
    },
    {
      "cell_type": "markdown",
      "metadata": {
        "id": "MBlQNvp9zpNu"
      },
      "source": [
        "# unittests\n",
        "\n",
        "Similar to writing own functions with assert statement, but provides summary output"
      ]
    },
    {
      "cell_type": "code",
      "metadata": {
        "id": "jZyaDcR2fSwG",
        "colab": {
          "base_uri": "https://localhost:8080/"
        },
        "outputId": "58bb09b8-600d-45cd-d377-fe5b3cd57eb2"
      },
      "source": [
        "!pip install ipython_unittest\n",
        "%load_ext ipython_unittest"
      ],
      "execution_count": null,
      "outputs": [
        {
          "output_type": "stream",
          "name": "stdout",
          "text": [
            "Collecting ipython_unittest\n",
            "  Downloading ipython_unittest-0.3.1-py2.py3-none-any.whl (15 kB)\n",
            "Installing collected packages: ipython-unittest\n",
            "Successfully installed ipython-unittest-0.3.1\n"
          ]
        }
      ]
    },
    {
      "cell_type": "code",
      "metadata": {
        "id": "A6B6Rpb5eUjS",
        "colab": {
          "base_uri": "https://localhost:8080/",
          "height": 259
        },
        "outputId": "ecff0266-5026-424d-a6c7-2073be404abf"
      },
      "source": [
        "%%unittest_testcase\n",
        "def test_three_number(self):\n",
        "  result = my_func(1,2,3)\n",
        "  self.assertEqual(result, 4)\n"
      ],
      "execution_count": null,
      "outputs": [
        {
          "output_type": "display_data",
          "data": {
            "application/unittest.status+json": {
              "color": "yellow",
              "message": "",
              "previous": 0
            },
            "text/plain": [
              ""
            ]
          },
          "metadata": {}
        },
        {
          "output_type": "display_data",
          "data": {
            "application/unittest.status+json": {
              "color": "salmon",
              "message": "F\n======================================================================\nFAIL: test_three_number (__main__.JupyterTest)\n----------------------------------------------------------------------\nTraceback (most recent call last):\n  File \"Cell Tests\", line 3, in test_three_number\nAssertionError: 5 != 4\n\n----------------------------------------------------------------------\nRan 1 test in 0.001s\n\nFAILED (failures=1)\n",
              "previous": 0
            },
            "text/plain": [
              "Fail"
            ]
          },
          "metadata": {}
        },
        {
          "output_type": "stream",
          "name": "stdout",
          "text": [
            "F\n",
            "======================================================================\n",
            "FAIL: test_three_number (__main__.JupyterTest)\n",
            "----------------------------------------------------------------------\n",
            "Traceback (most recent call last):\n",
            "  File \"Cell Tests\", line 3, in test_three_number\n",
            "AssertionError: 5 != 4\n",
            "\n",
            "----------------------------------------------------------------------\n",
            "Ran 1 test in 0.001s\n",
            "\n",
            "FAILED (failures=1)\n"
          ]
        },
        {
          "output_type": "execute_result",
          "data": {
            "text/plain": [
              "<unittest.runner.TextTestResult run=1 errors=0 failures=1>"
            ]
          },
          "metadata": {},
          "execution_count": 39
        }
      ]
    },
    {
      "cell_type": "code",
      "metadata": {
        "id": "B1jUHOooJc_O"
      },
      "source": [
        ""
      ],
      "execution_count": null,
      "outputs": []
    }
  ]
}