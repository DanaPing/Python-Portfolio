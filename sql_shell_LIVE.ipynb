{
  "nbformat": 4,
  "nbformat_minor": 0,
  "metadata": {
    "colab": {
      "name": "sql_shell.ipynb",
      "provenance": [],
      "include_colab_link": true
    },
    "kernelspec": {
      "name": "python3",
      "display_name": "Python 3"
    },
    "language_info": {
      "name": "python"
    }
  },
  "cells": [
    {
      "cell_type": "markdown",
      "metadata": {
        "id": "view-in-github",
        "colab_type": "text"
      },
      "source": [
        "<a href=\"https://colab.research.google.com/github/michael-borck/ISYS5002_portfolio/blob/main/sql_shell_LIVE.ipynb\" target=\"_parent\"><img src=\"https://colab.research.google.com/assets/colab-badge.svg\" alt=\"Open In Colab\"/></a>"
      ]
    },
    {
      "cell_type": "markdown",
      "metadata": {
        "id": "mbsVgk4dW_nz"
      },
      "source": [
        "#SQL via Python\n",
        "\n",
        "In this notebook we discuss all the CRUD operations on a SQLite 3 database in Python.\n",
        "\n",
        "We assume some basic understanding ot SQL\n",
        "\n",
        "## Import the library"
      ]
    },
    {
      "cell_type": "code",
      "metadata": {
        "id": "LPimUgLJW-zI"
      },
      "source": [
        "import sqlite3"
      ],
      "execution_count": 1,
      "outputs": []
    },
    {
      "cell_type": "markdown",
      "metadata": {
        "id": "Hw8dIXJ-XmD3"
      },
      "source": [
        "## Create a connection\n",
        "\n",
        "We use the connect method and pass the name of the database"
      ]
    },
    {
      "cell_type": "code",
      "metadata": {
        "id": "mrad4SnyXxgQ"
      },
      "source": [
        "sqliteConnection = sqlite3.connect('mytest.db')"
      ],
      "execution_count": 3,
      "outputs": []
    },
    {
      "cell_type": "markdown",
      "metadata": {
        "id": "mejA7Nv4XyPH"
      },
      "source": [
        "## Create a cursor object\n",
        "\n",
        "A cursor acts a middleware between a connection and SQL query"
      ]
    },
    {
      "cell_type": "code",
      "metadata": {
        "id": "ZTlVz29LYR9b"
      },
      "source": [
        "cursor = sqliteConnection.cursor()"
      ],
      "execution_count": 4,
      "outputs": []
    },
    {
      "cell_type": "markdown",
      "metadata": {
        "id": "Sn6PJmYtYdWr"
      },
      "source": [
        "# Create Table\n",
        "\n",
        "Use a common 'pattern'\n",
        "\n",
        "1. Create a SQL command as a string\n",
        "2. User cursor to execture the command\n",
        "3. If needed fetch the results"
      ]
    },
    {
      "cell_type": "code",
      "metadata": {
        "id": "SIGT5zH0Ykd4"
      },
      "source": [
        "sql_command = \"\"\"\n",
        "CREATE TABLE USER2 (\n",
        "  id INTEGER NOT NULL PRIMARY KEY AUTOINCREMENT,\n",
        "  name TEXT,\n",
        "  age INTEGER\n",
        ");\n",
        "\"\"\""
      ],
      "execution_count": 22,
      "outputs": []
    },
    {
      "cell_type": "code",
      "metadata": {
        "id": "WSPVSs8RSfE2",
        "outputId": "ec2ace93-e9f5-4c55-f943-1fbb8424e412",
        "colab": {
          "base_uri": "https://localhost:8080/"
        }
      },
      "source": [
        "cursor.execute(sql_command)"
      ],
      "execution_count": 23,
      "outputs": [
        {
          "output_type": "execute_result",
          "data": {
            "text/plain": [
              "<sqlite3.Cursor at 0x7f5427e0e6c0>"
            ]
          },
          "metadata": {},
          "execution_count": 23
        }
      ]
    },
    {
      "cell_type": "markdown",
      "metadata": {
        "id": "pn3Pj3hlYsBK"
      },
      "source": [
        "# Insert into Table"
      ]
    },
    {
      "cell_type": "code",
      "metadata": {
        "id": "sDDF56NqYy1D"
      },
      "source": [
        "sql_command_2 = \"\"\"\n",
        "INSERT INTO user VALUES (0, 'Michael', 21);\n",
        "\"\"\""
      ],
      "execution_count": 14,
      "outputs": []
    },
    {
      "cell_type": "code",
      "metadata": {
        "id": "ijbV2muNTeZj",
        "outputId": "53285c56-73e7-4fa7-b581-6c8d64b5c450",
        "colab": {
          "base_uri": "https://localhost:8080/"
        }
      },
      "source": [
        "cursor.execute(sql_command_2)"
      ],
      "execution_count": 16,
      "outputs": [
        {
          "output_type": "execute_result",
          "data": {
            "text/plain": [
              "<sqlite3.Cursor at 0x7f5427e0e6c0>"
            ]
          },
          "metadata": {},
          "execution_count": 16
        }
      ]
    },
    {
      "cell_type": "markdown",
      "metadata": {
        "id": "0q9-ZbAHY30U"
      },
      "source": [
        "## Fetching Data"
      ]
    },
    {
      "cell_type": "code",
      "metadata": {
        "id": "6fft_Fo-Y6TM"
      },
      "source": [
        "sql_command = \"\"\"\n",
        "SELECT * FROM user;\n",
        "\"\"\""
      ],
      "execution_count": 17,
      "outputs": []
    },
    {
      "cell_type": "code",
      "metadata": {
        "id": "QyKerWRaT4TO",
        "outputId": "afb7ad59-f21d-4124-a8a9-3960295dc84a",
        "colab": {
          "base_uri": "https://localhost:8080/"
        }
      },
      "source": [
        "cursor.execute(sql_command)"
      ],
      "execution_count": 18,
      "outputs": [
        {
          "output_type": "execute_result",
          "data": {
            "text/plain": [
              "<sqlite3.Cursor at 0x7f5427e0e6c0>"
            ]
          },
          "metadata": {},
          "execution_count": 18
        }
      ]
    },
    {
      "cell_type": "code",
      "metadata": {
        "id": "8mfipTLQT-EU",
        "outputId": "6aa0cf8a-2118-4aa1-9a58-abd42d52935c",
        "colab": {
          "base_uri": "https://localhost:8080/"
        }
      },
      "source": [
        "cursor.fetchall()"
      ],
      "execution_count": 19,
      "outputs": [
        {
          "output_type": "execute_result",
          "data": {
            "text/plain": [
              "[(0, 'Michael', 21)]"
            ]
          },
          "metadata": {},
          "execution_count": 19
        }
      ]
    },
    {
      "cell_type": "markdown",
      "metadata": {
        "id": "CMhqzLZbY8r-"
      },
      "source": [
        "## Updating Data"
      ]
    },
    {
      "cell_type": "code",
      "metadata": {
        "id": "ojzfQW6vY_uX"
      },
      "source": [
        ""
      ],
      "execution_count": null,
      "outputs": []
    },
    {
      "cell_type": "markdown",
      "metadata": {
        "id": "-tk5M9E9ZBPO"
      },
      "source": [
        "## Delete Data"
      ]
    },
    {
      "cell_type": "code",
      "metadata": {
        "id": "VI52gWODZCsF"
      },
      "source": [
        ""
      ],
      "execution_count": null,
      "outputs": []
    },
    {
      "cell_type": "markdown",
      "metadata": {
        "id": "ZqFcuamRZJ9W"
      },
      "source": [
        "## View Schema"
      ]
    },
    {
      "cell_type": "code",
      "metadata": {
        "id": "1Ovfl-_OZOPk",
        "colab": {
          "base_uri": "https://localhost:8080/"
        },
        "outputId": "f6595db6-ca07-47cb-d071-55222cd857e8"
      },
      "source": [
        "sql_command = \"\"\"\n",
        "SELECT name FROM sqlite_master WHERE type='table';\n",
        "\"\"\"\n",
        "cursor.execute(sql_command)\n",
        "results = cursor.fetchall()\n",
        "\n",
        "print(results)\n",
        "table_list = []\n",
        "for result in results:\n",
        "  if result[0] != 'sqlite_sequence':\n",
        "    table_list.append(result[0])\n",
        "\n",
        "print(table_list)\n",
        "list_of_tables = [result[0] for result in results if result[0] != 'sqlite_sequence']\n",
        "list_of_tables"
      ],
      "execution_count": 35,
      "outputs": [
        {
          "output_type": "stream",
          "name": "stdout",
          "text": [
            "[('USER',), ('sqlite_sequence',), ('USER2',)]\n",
            "['USER', 'USER2']\n"
          ]
        },
        {
          "output_type": "execute_result",
          "data": {
            "text/plain": [
              "['USER', 'USER2']"
            ]
          },
          "metadata": {},
          "execution_count": 35
        }
      ]
    },
    {
      "cell_type": "markdown",
      "metadata": {
        "id": "-ldwT9WyZE-2"
      },
      "source": [
        "## Delete Table"
      ]
    },
    {
      "cell_type": "code",
      "metadata": {
        "id": "cyFWke0AZHI-",
        "colab": {
          "base_uri": "https://localhost:8080/"
        },
        "outputId": "c81dd740-aad5-4a91-ffc5-86cfd8685e7f"
      },
      "source": [
        "for table in list_of_tables:\n",
        "  cursor.execute(\"PRAGMA table_info('%s')\" % table)\n",
        "  results = cursor.fetchall()\n",
        "  #print(results)\n",
        "  col_name = [ x[1] for x in results]\n",
        "  print(table + ':' + str(col_name))\n"
      ],
      "execution_count": 40,
      "outputs": [
        {
          "output_type": "stream",
          "name": "stdout",
          "text": [
            "USER:['id', 'name', 'age']\n",
            "USER2:['id', 'name', 'age']\n"
          ]
        }
      ]
    },
    {
      "cell_type": "code",
      "metadata": {
        "id": "PXCwzTtVYSiH"
      },
      "source": [
        ""
      ],
      "execution_count": null,
      "outputs": []
    }
  ]
}