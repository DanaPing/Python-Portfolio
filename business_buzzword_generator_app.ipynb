{
  "nbformat": 4,
  "nbformat_minor": 5,
  "metadata": {
    "kernelspec": {
      "display_name": "Python 3 (ipykernel)",
      "language": "python",
      "name": "python3"
    },
    "language_info": {
      "codemirror_mode": {
        "name": "ipython",
        "version": 3
      },
      "file_extension": ".py",
      "mimetype": "text/x-python",
      "name": "python",
      "nbconvert_exporter": "python",
      "pygments_lexer": "ipython3",
      "version": "3.9.6"
    },
    "colab": {
      "name": "business_buzzword_generator_app.ipynb",
      "provenance": [],
      "include_colab_link": true
    }
  },
  "cells": [
    {
      "cell_type": "markdown",
      "metadata": {
        "id": "view-in-github",
        "colab_type": "text"
      },
      "source": [
        "<a href=\"https://colab.research.google.com/github/michael-borck/ISYS5002_portfolio/blob/main/business_buzzword_generator_app.ipynb\" target=\"_parent\"><img src=\"https://colab.research.google.com/assets/colab-badge.svg\" alt=\"Open In Colab\"/></a>"
      ]
    },
    {
      "cell_type": "markdown",
      "metadata": {
        "id": "f8b21259-c1a0-4ecb-a02f-e35565841067"
      },
      "source": [
        "# Business Buzzword Generator\n",
        "\n",
        "This application generates business phrases."
      ],
      "id": "f8b21259-c1a0-4ecb-a02f-e35565841067"
    },
    {
      "cell_type": "code",
      "metadata": {
        "id": "6b9a2fc6-f8ae-4778-a5e7-9659136091fd",
        "cellView": "form"
      },
      "source": [
        "#@title Click the play button\n",
        "\n",
        "import random\n",
        "import ipywidgets as ipw\n",
        "\n",
        "def get_buzzword(b):\n",
        "  #  make three lists, one of verbs, one of adjectives, and one of nouns\n",
        "  verbs = ['actualize', 'administrate', 'aggregate']\n",
        "  adjectives = ['accurate', 'adaptive', 'agile']\n",
        "  nouns = ['content', 'convergence', 'core competencies']\n",
        "\n",
        "  # randomly choose one buzzword, action, and outcome from each list\n",
        "  verb = random.choice(verbs)\n",
        "  adjective = random.choice(adjectives)\n",
        "  noun = random.choice(nouns)\n",
        "\n",
        "  # build the phrase by \"adding\" the words together\n",
        "  phrase = verb + ' ' + adjective + ' ' + noun\n",
        "\n",
        "  # output the phrase\n",
        "  print(phrase)\n",
        "\n",
        "\n",
        "generate_button = ipw.Button(description = 'Generate Buzzword Phrase')\n",
        "generate_button.on_click(get_buzzword)\n",
        "display(generate_button)"
      ],
      "id": "6b9a2fc6-f8ae-4778-a5e7-9659136091fd",
      "execution_count": null,
      "outputs": []
    }
  ]
}