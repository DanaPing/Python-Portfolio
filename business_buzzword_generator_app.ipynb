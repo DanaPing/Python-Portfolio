{
  "nbformat": 4,
  "nbformat_minor": 5,
  "metadata": {
    "kernelspec": {
      "display_name": "Python 3 (ipykernel)",
      "language": "python",
      "name": "python3"
    },
    "language_info": {
      "codemirror_mode": {
        "name": "ipython",
        "version": 3
      },
      "file_extension": ".py",
      "mimetype": "text/x-python",
      "name": "python",
      "nbconvert_exporter": "python",
      "pygments_lexer": "ipython3",
      "version": "3.9.6"
    },
    "colab": {
      "name": "business_buzzword_generator_app.ipynb",
      "provenance": [],
      "include_colab_link": true
    },
    "widgets": {
      "application/vnd.jupyter.widget-state+json": {
        "d19c1cdef5af40e4bca3aeed144cf1d7": {
          "model_module": "@jupyter-widgets/controls",
          "model_name": "ButtonModel",
          "model_module_version": "1.5.0",
          "state": {
            "_view_name": "ButtonView",
            "style": "IPY_MODEL_d961a4c90f2d4fde93a97d7925f687e4",
            "_dom_classes": [],
            "description": "Generate Buzzword Phrase",
            "_model_name": "ButtonModel",
            "button_style": "",
            "_view_module": "@jupyter-widgets/controls",
            "_model_module_version": "1.5.0",
            "tooltip": "",
            "_view_count": null,
            "disabled": false,
            "_view_module_version": "1.5.0",
            "layout": "IPY_MODEL_a7b732e8092f4c99a5e7d51b4ab6ce8b",
            "_model_module": "@jupyter-widgets/controls",
            "icon": ""
          }
        },
        "d961a4c90f2d4fde93a97d7925f687e4": {
          "model_module": "@jupyter-widgets/controls",
          "model_name": "ButtonStyleModel",
          "model_module_version": "1.5.0",
          "state": {
            "_view_name": "StyleView",
            "_model_name": "ButtonStyleModel",
            "_view_module": "@jupyter-widgets/base",
            "_model_module_version": "1.5.0",
            "_view_count": null,
            "button_color": null,
            "font_weight": "",
            "_view_module_version": "1.2.0",
            "_model_module": "@jupyter-widgets/controls"
          }
        },
        "a7b732e8092f4c99a5e7d51b4ab6ce8b": {
          "model_module": "@jupyter-widgets/base",
          "model_name": "LayoutModel",
          "model_module_version": "1.2.0",
          "state": {
            "_view_name": "LayoutView",
            "grid_template_rows": null,
            "right": null,
            "justify_content": null,
            "_view_module": "@jupyter-widgets/base",
            "overflow": null,
            "_model_module_version": "1.2.0",
            "_view_count": null,
            "flex_flow": null,
            "width": null,
            "min_width": null,
            "border": null,
            "align_items": null,
            "bottom": null,
            "_model_module": "@jupyter-widgets/base",
            "top": null,
            "grid_column": null,
            "overflow_y": null,
            "overflow_x": null,
            "grid_auto_flow": null,
            "grid_area": null,
            "grid_template_columns": null,
            "flex": null,
            "_model_name": "LayoutModel",
            "justify_items": null,
            "grid_row": null,
            "max_height": null,
            "align_content": null,
            "visibility": null,
            "align_self": null,
            "height": null,
            "min_height": null,
            "padding": null,
            "grid_auto_rows": null,
            "grid_gap": null,
            "max_width": null,
            "order": null,
            "_view_module_version": "1.2.0",
            "grid_template_areas": null,
            "object_position": null,
            "object_fit": null,
            "grid_auto_columns": null,
            "margin": null,
            "display": null,
            "left": null
          }
        }
      }
    }
  },
  "cells": [
    {
      "cell_type": "markdown",
      "metadata": {
        "id": "view-in-github",
        "colab_type": "text"
      },
      "source": [
        "<a href=\"https://colab.research.google.com/github/michael-borck/ISYS5002_portfolio/blob/main/business_buzzword_generator_app.ipynb\" target=\"_parent\"><img src=\"https://colab.research.google.com/assets/colab-badge.svg\" alt=\"Open In Colab\"/></a>"
      ]
    },
    {
      "cell_type": "markdown",
      "metadata": {
        "id": "f8b21259-c1a0-4ecb-a02f-e35565841067"
      },
      "source": [
        "# Business Buzzword Generator\n",
        "\n",
        "Lets write a real-world business application using Python.   Want to write a program to genrate business phrases.  The program takes three lists of words, randomly picks one word from each list, combines the words into a phrase, and then prints out the phrase. Here is the psuedocode:\n",
        "\n",
        "    importing the random module\n",
        "    make three lists, one of buzzword, one of actions, and one of outcomes\n",
        "    randomly choose one buzzword, action, and outcome from each list\n",
        "    now build the phrase by \"adding\" the words together\n",
        "    output the phrase\n",
        "    \n",
        "A good use of pseudocode is each line becomes comments in the code. Each line of pseudo code has been pasted into a cell below.  Try to implement each as python statement or statements."
      ],
      "id": "f8b21259-c1a0-4ecb-a02f-e35565841067"
    },
    {
      "cell_type": "code",
      "metadata": {
        "colab": {
          "base_uri": "https://localhost:8080/"
        },
        "id": "6b9a2fc6-f8ae-4778-a5e7-9659136091fd",
        "outputId": "3af59011-f433-4730-a3e5-2e94c963f8d8"
      },
      "source": [
        "# importing the random module\n",
        "import random\n",
        "\n",
        "#  make three lists, one of verbs, one of adjectives, and one of nouns\n",
        "verbs = ['actualize', 'administrate', 'aggregate']\n",
        "adjectives = ['accurate', 'adaptive', 'agile']\n",
        "nouns = ['content', 'convergence', 'core competencies']\n",
        "\n",
        "# randomly choose one buzzword, action, and outcome from each list\n",
        "verb = random.choice(verbs)\n",
        "adjective = random.choice(adjectives)\n",
        "noun = random.choice(nouns)\n",
        "\n",
        "# build the phrase by \"adding\" the words together\n",
        "phrase = verb + ' ' + adjective + ' ' + noun\n",
        "\n",
        "# output the phrase\n",
        "print(phrase)"
      ],
      "id": "6b9a2fc6-f8ae-4778-a5e7-9659136091fd",
      "execution_count": 1,
      "outputs": [
        {
          "output_type": "stream",
          "name": "stdout",
          "text": [
            "actualize adaptive core competencies\n"
          ]
        }
      ]
    },
    {
      "cell_type": "code",
      "metadata": {
        "id": "4Ra5eIS4lRFe"
      },
      "source": [
        "def get_buzzword():\n",
        "  # randomly choose one buzzword, action, and outcome from each list\n",
        "  verb = random.choice(verbs)\n",
        "  adjective = random.choice(adjectives)\n",
        "  noun = random.choice(nouns)\n",
        "  phrase =  verb + ' ' + adjective + ' ' + noun\n",
        "  return phrase"
      ],
      "id": "4Ra5eIS4lRFe",
      "execution_count": 7,
      "outputs": []
    },
    {
      "cell_type": "code",
      "metadata": {
        "colab": {
          "base_uri": "https://localhost:8080/",
          "height": 133,
          "referenced_widgets": [
            "d19c1cdef5af40e4bca3aeed144cf1d7",
            "d961a4c90f2d4fde93a97d7925f687e4",
            "a7b732e8092f4c99a5e7d51b4ab6ce8b"
          ]
        },
        "id": "qKAt6wd_lwMm",
        "outputId": "75194e71-cbe0-4bd8-9e66-79f4994c0851"
      },
      "source": [
        "import ipywidgets as ipw\n",
        "generate_button = ipw.Button(description = 'Generate Buzzword Phrase')\n",
        "generate_button"
      ],
      "id": "qKAt6wd_lwMm",
      "execution_count": 8,
      "outputs": [
        {
          "output_type": "display_data",
          "data": {
            "application/vnd.jupyter.widget-view+json": {
              "model_id": "d19c1cdef5af40e4bca3aeed144cf1d7",
              "version_minor": 0,
              "version_major": 2
            },
            "text/plain": [
              "Button(description='Generate Buzzword Phrase', style=ButtonStyle())"
            ]
          },
          "metadata": {}
        },
        {
          "output_type": "stream",
          "name": "stdout",
          "text": [
            "aggregate accurate content\n",
            "actualize agile content\n",
            "administrate agile convergence\n",
            "actualize adaptive convergence\n",
            "aggregate adaptive core competencies\n"
          ]
        }
      ]
    },
    {
      "cell_type": "code",
      "metadata": {
        "id": "3baGIcfDmRHZ"
      },
      "source": [
        "def click_button(b):\n",
        "  print(get_buzzword())\n",
        "\n",
        "generate_button.on_click(click_button)"
      ],
      "id": "3baGIcfDmRHZ",
      "execution_count": 9,
      "outputs": []
    },
    {
      "cell_type": "code",
      "metadata": {
        "id": "f4QGFT1lmyg2"
      },
      "source": [
        ""
      ],
      "id": "f4QGFT1lmyg2",
      "execution_count": null,
      "outputs": []
    }
  ]
}