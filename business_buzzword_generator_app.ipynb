{
  "nbformat": 4,
  "nbformat_minor": 5,
  "metadata": {
    "kernelspec": {
      "display_name": "Python 3 (ipykernel)",
      "language": "python",
      "name": "python3"
    },
    "language_info": {
      "codemirror_mode": {
        "name": "ipython",
        "version": 3
      },
      "file_extension": ".py",
      "mimetype": "text/x-python",
      "name": "python",
      "nbconvert_exporter": "python",
      "pygments_lexer": "ipython3",
      "version": "3.9.6"
    },
    "colab": {
      "name": "business_buzzword_generator_app.ipynb",
      "provenance": [],
      "include_colab_link": true
    },
    "widgets": {
      "application/vnd.jupyter.widget-state+json": {
        "cd35e074d5b14f8c911f89a34517bcb1": {
          "model_module": "@jupyter-widgets/controls",
          "model_name": "ButtonModel",
          "model_module_version": "1.5.0",
          "state": {
            "_view_name": "ButtonView",
            "style": "IPY_MODEL_42bc5763b689463b9d94310a13bebb84",
            "_dom_classes": [],
            "description": "Generate Buzzword Phrase",
            "_model_name": "ButtonModel",
            "button_style": "",
            "_view_module": "@jupyter-widgets/controls",
            "_model_module_version": "1.5.0",
            "tooltip": "",
            "_view_count": null,
            "disabled": false,
            "_view_module_version": "1.5.0",
            "layout": "IPY_MODEL_5e7d81e00da842a7ae708cf0882b1319",
            "_model_module": "@jupyter-widgets/controls",
            "icon": ""
          }
        },
        "42bc5763b689463b9d94310a13bebb84": {
          "model_module": "@jupyter-widgets/controls",
          "model_name": "ButtonStyleModel",
          "model_module_version": "1.5.0",
          "state": {
            "_view_name": "StyleView",
            "_model_name": "ButtonStyleModel",
            "_view_module": "@jupyter-widgets/base",
            "_model_module_version": "1.5.0",
            "_view_count": null,
            "button_color": null,
            "font_weight": "",
            "_view_module_version": "1.2.0",
            "_model_module": "@jupyter-widgets/controls"
          }
        },
        "5e7d81e00da842a7ae708cf0882b1319": {
          "model_module": "@jupyter-widgets/base",
          "model_name": "LayoutModel",
          "model_module_version": "1.2.0",
          "state": {
            "_view_name": "LayoutView",
            "grid_template_rows": null,
            "right": null,
            "justify_content": null,
            "_view_module": "@jupyter-widgets/base",
            "overflow": null,
            "_model_module_version": "1.2.0",
            "_view_count": null,
            "flex_flow": null,
            "width": null,
            "min_width": null,
            "border": null,
            "align_items": null,
            "bottom": null,
            "_model_module": "@jupyter-widgets/base",
            "top": null,
            "grid_column": null,
            "overflow_y": null,
            "overflow_x": null,
            "grid_auto_flow": null,
            "grid_area": null,
            "grid_template_columns": null,
            "flex": null,
            "_model_name": "LayoutModel",
            "justify_items": null,
            "grid_row": null,
            "max_height": null,
            "align_content": null,
            "visibility": null,
            "align_self": null,
            "height": null,
            "min_height": null,
            "padding": null,
            "grid_auto_rows": null,
            "grid_gap": null,
            "max_width": null,
            "order": null,
            "_view_module_version": "1.2.0",
            "grid_template_areas": null,
            "object_position": null,
            "object_fit": null,
            "grid_auto_columns": null,
            "margin": null,
            "display": null,
            "left": null
          }
        }
      }
    }
  },
  "cells": [
    {
      "cell_type": "markdown",
      "metadata": {
        "id": "view-in-github",
        "colab_type": "text"
      },
      "source": [
        "<a href=\"https://colab.research.google.com/github/michael-borck/ISYS5002_portfolio/blob/main/business_buzzword_generator_app.ipynb\" target=\"_parent\"><img src=\"https://colab.research.google.com/assets/colab-badge.svg\" alt=\"Open In Colab\"/></a>"
      ]
    },
    {
      "cell_type": "markdown",
      "metadata": {
        "id": "f8b21259-c1a0-4ecb-a02f-e35565841067"
      },
      "source": [
        "# Business Buzzword Phrase Generator\n",
        "\n",
        "This application generates business phrases.  Click on the play button to start the app, then click the 'Generate Phrase' button to get you buzzword phrase"
      ],
      "id": "f8b21259-c1a0-4ecb-a02f-e35565841067"
    },
    {
      "cell_type": "code",
      "metadata": {
        "id": "6b9a2fc6-f8ae-4778-a5e7-9659136091fd",
        "cellView": "form",
        "colab": {
          "base_uri": "https://localhost:8080/",
          "height": 49,
          "referenced_widgets": [
            "cd35e074d5b14f8c911f89a34517bcb1",
            "42bc5763b689463b9d94310a13bebb84",
            "5e7d81e00da842a7ae708cf0882b1319"
          ]
        },
        "outputId": "e1e499bd-32f5-4632-bc62-fbbed26fa203"
      },
      "source": [
        "#@title Click the play button\n",
        "\n",
        "import random\n",
        "import ipywidgets as ipw\n",
        "\n",
        "def get_buzzword(b):\n",
        "  #  make three lists, one of verbs, one of adjectives, and one of nouns\n",
        "  verbs = ['actualize', 'administrate', 'aggregate']\n",
        "  adjectives = ['accurate', 'adaptive', 'agile']\n",
        "  nouns = ['content', 'convergence', 'core competencies']\n",
        "\n",
        "  # randomly choose one buzzword, action, and outcome from each list\n",
        "  verb = random.choice(verbs)\n",
        "  adjective = random.choice(adjectives)\n",
        "  noun = random.choice(nouns)\n",
        "\n",
        "  # build the phrase by \"adding\" the words together\n",
        "  phrase = verb + ' ' + adjective + ' ' + noun\n",
        "\n",
        "  # output the phrase\n",
        "  print(phrase)\n",
        "\n",
        "\n",
        "generate_button = ipw.Button(description = 'Generate Buzzword Phrase')\n",
        "generate_button.on_click(get_buzzword)\n",
        "display(generate_button)"
      ],
      "id": "6b9a2fc6-f8ae-4778-a5e7-9659136091fd",
      "execution_count": 2,
      "outputs": [
        {
          "output_type": "display_data",
          "data": {
            "application/vnd.jupyter.widget-view+json": {
              "model_id": "cd35e074d5b14f8c911f89a34517bcb1",
              "version_minor": 0,
              "version_major": 2
            },
            "text/plain": [
              "Button(description='Generate Buzzword Phrase', style=ButtonStyle())"
            ]
          },
          "metadata": {}
        }
      ]
    }
  ]
}