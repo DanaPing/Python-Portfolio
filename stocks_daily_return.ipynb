{
 "cells": [
  {
   "cell_type": "markdown",
   "id": "b5ae41e0",
   "metadata": {},
   "source": [
    "# Stock Data\n",
    "\n",
    "* Read CSV file\n",
    "* Use CSV module\n",
    "* Use Pandas\n",
    "  * CSV\n",
    "  * Excel"
   ]
  },
  {
   "cell_type": "code",
   "execution_count": null,
   "id": "1e11a5be",
   "metadata": {},
   "outputs": [],
   "source": []
  },
  {
   "cell_type": "markdown",
   "id": "e63f358d",
   "metadata": {},
   "source": [
    "## Read CSV file"
   ]
  },
  {
   "cell_type": "code",
   "execution_count": null,
   "id": "425280cb",
   "metadata": {},
   "outputs": [],
   "source": []
  },
  {
   "cell_type": "markdown",
   "id": "6d1de788",
   "metadata": {},
   "source": [
    "## Module: CSV"
   ]
  },
  {
   "cell_type": "code",
   "execution_count": null,
   "id": "17d5e7e0",
   "metadata": {},
   "outputs": [],
   "source": []
  },
  {
   "cell_type": "markdown",
   "id": "1af66a5b",
   "metadata": {},
   "source": [
    "## Module: Pandas"
   ]
  },
  {
   "cell_type": "code",
   "execution_count": null,
   "id": "494f6466",
   "metadata": {},
   "outputs": [],
   "source": []
  }
 ],
 "metadata": {
  "kernelspec": {
   "display_name": "Python 3 (ipykernel)",
   "language": "python",
   "name": "python3"
  },
  "language_info": {
   "codemirror_mode": {
    "name": "ipython",
    "version": 3
   },
   "file_extension": ".py",
   "mimetype": "text/x-python",
   "name": "python",
   "nbconvert_exporter": "python",
   "pygments_lexer": "ipython3",
   "version": "3.9.6"
  }
 },
 "nbformat": 4,
 "nbformat_minor": 5
}
