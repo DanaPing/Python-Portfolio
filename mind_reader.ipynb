{
  "nbformat": 4,
  "nbformat_minor": 0,
  "metadata": {
    "colab": {
      "name": "mind_reader.ipynb",
      "provenance": [],
      "authorship_tag": "ABX9TyMily+ALoKgldIezEUifu78",
      "include_colab_link": true
    },
    "kernelspec": {
      "name": "python3",
      "display_name": "Python 3"
    },
    "language_info": {
      "name": "python"
    },
    "widgets": {
      "application/vnd.jupyter.widget-state+json": {
        "83423edc58c044fc928bc9c594f8de2d": {
          "model_module": "@jupyter-widgets/controls",
          "model_name": "HBoxModel",
          "model_module_version": "1.5.0",
          "state": {
            "_view_name": "HBoxView",
            "_dom_classes": [],
            "_model_name": "HBoxModel",
            "_view_module": "@jupyter-widgets/controls",
            "_model_module_version": "1.5.0",
            "_view_count": null,
            "_view_module_version": "1.5.0",
            "box_style": "",
            "layout": "IPY_MODEL_b5b035865fed41d48268c0997319f500",
            "_model_module": "@jupyter-widgets/controls",
            "children": [
              "IPY_MODEL_8e95183030e241a29842bf4e92123ead",
              "IPY_MODEL_5453ee1e22924b989c44facdb98fb934"
            ]
          }
        },
        "b5b035865fed41d48268c0997319f500": {
          "model_module": "@jupyter-widgets/base",
          "model_name": "LayoutModel",
          "model_module_version": "1.2.0",
          "state": {
            "_view_name": "LayoutView",
            "grid_template_rows": null,
            "right": null,
            "justify_content": null,
            "_view_module": "@jupyter-widgets/base",
            "overflow": null,
            "_model_module_version": "1.2.0",
            "_view_count": null,
            "flex_flow": null,
            "width": null,
            "min_width": null,
            "border": null,
            "align_items": null,
            "bottom": null,
            "_model_module": "@jupyter-widgets/base",
            "top": null,
            "grid_column": null,
            "overflow_y": null,
            "overflow_x": null,
            "grid_auto_flow": null,
            "grid_area": null,
            "grid_template_columns": null,
            "flex": null,
            "_model_name": "LayoutModel",
            "justify_items": null,
            "grid_row": null,
            "max_height": null,
            "align_content": null,
            "visibility": null,
            "align_self": null,
            "height": null,
            "min_height": null,
            "padding": null,
            "grid_auto_rows": null,
            "grid_gap": null,
            "max_width": null,
            "order": null,
            "_view_module_version": "1.2.0",
            "grid_template_areas": null,
            "object_position": null,
            "object_fit": null,
            "grid_auto_columns": null,
            "margin": null,
            "display": null,
            "left": null
          }
        },
        "8e95183030e241a29842bf4e92123ead": {
          "model_module": "@jupyter-widgets/controls",
          "model_name": "ButtonModel",
          "model_module_version": "1.5.0",
          "state": {
            "_view_name": "ButtonView",
            "style": "IPY_MODEL_bc473109a8c347d2b3468f20e6296d24",
            "_dom_classes": [],
            "description": "0",
            "_model_name": "ButtonModel",
            "button_style": "",
            "_view_module": "@jupyter-widgets/controls",
            "_model_module_version": "1.5.0",
            "tooltip": "",
            "_view_count": null,
            "disabled": false,
            "_view_module_version": "1.5.0",
            "layout": "IPY_MODEL_86cc8631e3db4694a675c5fd9cd93866",
            "_model_module": "@jupyter-widgets/controls",
            "icon": ""
          }
        },
        "5453ee1e22924b989c44facdb98fb934": {
          "model_module": "@jupyter-widgets/controls",
          "model_name": "ButtonModel",
          "model_module_version": "1.5.0",
          "state": {
            "_view_name": "ButtonView",
            "style": "IPY_MODEL_9f5bef059540400e96c5201e932ca584",
            "_dom_classes": [],
            "description": "1",
            "_model_name": "ButtonModel",
            "button_style": "",
            "_view_module": "@jupyter-widgets/controls",
            "_model_module_version": "1.5.0",
            "tooltip": "",
            "_view_count": null,
            "disabled": false,
            "_view_module_version": "1.5.0",
            "layout": "IPY_MODEL_3a49b0238c6d4f68a11b490a7c2b1715",
            "_model_module": "@jupyter-widgets/controls",
            "icon": ""
          }
        },
        "bc473109a8c347d2b3468f20e6296d24": {
          "model_module": "@jupyter-widgets/controls",
          "model_name": "ButtonStyleModel",
          "model_module_version": "1.5.0",
          "state": {
            "_view_name": "StyleView",
            "_model_name": "ButtonStyleModel",
            "_view_module": "@jupyter-widgets/base",
            "_model_module_version": "1.5.0",
            "_view_count": null,
            "button_color": null,
            "font_weight": "",
            "_view_module_version": "1.2.0",
            "_model_module": "@jupyter-widgets/controls"
          }
        },
        "86cc8631e3db4694a675c5fd9cd93866": {
          "model_module": "@jupyter-widgets/base",
          "model_name": "LayoutModel",
          "model_module_version": "1.2.0",
          "state": {
            "_view_name": "LayoutView",
            "grid_template_rows": null,
            "right": null,
            "justify_content": null,
            "_view_module": "@jupyter-widgets/base",
            "overflow": null,
            "_model_module_version": "1.2.0",
            "_view_count": null,
            "flex_flow": null,
            "width": null,
            "min_width": null,
            "border": null,
            "align_items": null,
            "bottom": null,
            "_model_module": "@jupyter-widgets/base",
            "top": null,
            "grid_column": null,
            "overflow_y": null,
            "overflow_x": null,
            "grid_auto_flow": null,
            "grid_area": null,
            "grid_template_columns": null,
            "flex": null,
            "_model_name": "LayoutModel",
            "justify_items": null,
            "grid_row": null,
            "max_height": null,
            "align_content": null,
            "visibility": "hidden",
            "align_self": null,
            "height": null,
            "min_height": null,
            "padding": null,
            "grid_auto_rows": null,
            "grid_gap": null,
            "max_width": null,
            "order": null,
            "_view_module_version": "1.2.0",
            "grid_template_areas": null,
            "object_position": null,
            "object_fit": null,
            "grid_auto_columns": null,
            "margin": null,
            "display": null,
            "left": null
          }
        },
        "9f5bef059540400e96c5201e932ca584": {
          "model_module": "@jupyter-widgets/controls",
          "model_name": "ButtonStyleModel",
          "model_module_version": "1.5.0",
          "state": {
            "_view_name": "StyleView",
            "_model_name": "ButtonStyleModel",
            "_view_module": "@jupyter-widgets/base",
            "_model_module_version": "1.5.0",
            "_view_count": null,
            "button_color": null,
            "font_weight": "",
            "_view_module_version": "1.2.0",
            "_model_module": "@jupyter-widgets/controls"
          }
        },
        "3a49b0238c6d4f68a11b490a7c2b1715": {
          "model_module": "@jupyter-widgets/base",
          "model_name": "LayoutModel",
          "model_module_version": "1.2.0",
          "state": {
            "_view_name": "LayoutView",
            "grid_template_rows": null,
            "right": null,
            "justify_content": null,
            "_view_module": "@jupyter-widgets/base",
            "overflow": null,
            "_model_module_version": "1.2.0",
            "_view_count": null,
            "flex_flow": null,
            "width": null,
            "min_width": null,
            "border": null,
            "align_items": null,
            "bottom": null,
            "_model_module": "@jupyter-widgets/base",
            "top": null,
            "grid_column": null,
            "overflow_y": null,
            "overflow_x": null,
            "grid_auto_flow": null,
            "grid_area": null,
            "grid_template_columns": null,
            "flex": null,
            "_model_name": "LayoutModel",
            "justify_items": null,
            "grid_row": null,
            "max_height": null,
            "align_content": null,
            "visibility": null,
            "align_self": null,
            "height": null,
            "min_height": null,
            "padding": null,
            "grid_auto_rows": null,
            "grid_gap": null,
            "max_width": null,
            "order": null,
            "_view_module_version": "1.2.0",
            "grid_template_areas": null,
            "object_position": null,
            "object_fit": null,
            "grid_auto_columns": null,
            "margin": null,
            "display": null,
            "left": null
          }
        },
        "bdc357e7a3a9466a849c9a4ccf3752a3": {
          "model_module": "@jupyter-widgets/controls",
          "model_name": "VBoxModel",
          "model_module_version": "1.5.0",
          "state": {
            "_view_name": "VBoxView",
            "_dom_classes": [],
            "_model_name": "VBoxModel",
            "_view_module": "@jupyter-widgets/controls",
            "_model_module_version": "1.5.0",
            "_view_count": null,
            "_view_module_version": "1.5.0",
            "box_style": "",
            "layout": "IPY_MODEL_01f4e8602eb04fd7a996f1245e8f1064",
            "_model_module": "@jupyter-widgets/controls",
            "children": [
              "IPY_MODEL_0b619e5c50fd4ca0993324fe1bca6411",
              "IPY_MODEL_2b9686d82c07448f90122e2a5ed96bc8"
            ]
          }
        },
        "01f4e8602eb04fd7a996f1245e8f1064": {
          "model_module": "@jupyter-widgets/base",
          "model_name": "LayoutModel",
          "model_module_version": "1.2.0",
          "state": {
            "_view_name": "LayoutView",
            "grid_template_rows": null,
            "right": null,
            "justify_content": null,
            "_view_module": "@jupyter-widgets/base",
            "overflow": null,
            "_model_module_version": "1.2.0",
            "_view_count": null,
            "flex_flow": null,
            "width": null,
            "min_width": null,
            "border": null,
            "align_items": null,
            "bottom": null,
            "_model_module": "@jupyter-widgets/base",
            "top": null,
            "grid_column": null,
            "overflow_y": null,
            "overflow_x": null,
            "grid_auto_flow": null,
            "grid_area": null,
            "grid_template_columns": null,
            "flex": null,
            "_model_name": "LayoutModel",
            "justify_items": null,
            "grid_row": null,
            "max_height": null,
            "align_content": null,
            "visibility": null,
            "align_self": null,
            "height": null,
            "min_height": null,
            "padding": null,
            "grid_auto_rows": null,
            "grid_gap": null,
            "max_width": null,
            "order": null,
            "_view_module_version": "1.2.0",
            "grid_template_areas": null,
            "object_position": null,
            "object_fit": null,
            "grid_auto_columns": null,
            "margin": null,
            "display": null,
            "left": null
          }
        },
        "0b619e5c50fd4ca0993324fe1bca6411": {
          "model_module": "@jupyter-widgets/controls",
          "model_name": "IntProgressModel",
          "model_module_version": "1.5.0",
          "state": {
            "_view_name": "ProgressView",
            "style": "IPY_MODEL_282d4dbac3384ad0922b870b169eb5d5",
            "_dom_classes": [],
            "description": "You",
            "_model_name": "IntProgressModel",
            "bar_style": "",
            "max": 10,
            "_view_module": "@jupyter-widgets/controls",
            "_model_module_version": "1.5.0",
            "value": 10,
            "_view_count": null,
            "_view_module_version": "1.5.0",
            "orientation": "horizontal",
            "min": 0,
            "description_tooltip": null,
            "_model_module": "@jupyter-widgets/controls",
            "layout": "IPY_MODEL_a92668cbc3ca41229b8e1464c609bb06"
          }
        },
        "2b9686d82c07448f90122e2a5ed96bc8": {
          "model_module": "@jupyter-widgets/controls",
          "model_name": "IntProgressModel",
          "model_module_version": "1.5.0",
          "state": {
            "_view_name": "ProgressView",
            "style": "IPY_MODEL_49bdeaac457c46e8ad48276171424ee9",
            "_dom_classes": [],
            "description": "Bot",
            "_model_name": "IntProgressModel",
            "bar_style": "",
            "max": 10,
            "_view_module": "@jupyter-widgets/controls",
            "_model_module_version": "1.5.0",
            "value": 6,
            "_view_count": null,
            "_view_module_version": "1.5.0",
            "orientation": "horizontal",
            "min": 0,
            "description_tooltip": null,
            "_model_module": "@jupyter-widgets/controls",
            "layout": "IPY_MODEL_75af3bdc05684a408cdab61f8d3454aa"
          }
        },
        "282d4dbac3384ad0922b870b169eb5d5": {
          "model_module": "@jupyter-widgets/controls",
          "model_name": "ProgressStyleModel",
          "model_module_version": "1.5.0",
          "state": {
            "_view_name": "StyleView",
            "_model_name": "ProgressStyleModel",
            "description_width": "",
            "_view_module": "@jupyter-widgets/base",
            "_model_module_version": "1.5.0",
            "_view_count": null,
            "_view_module_version": "1.2.0",
            "bar_color": null,
            "_model_module": "@jupyter-widgets/controls"
          }
        },
        "a92668cbc3ca41229b8e1464c609bb06": {
          "model_module": "@jupyter-widgets/base",
          "model_name": "LayoutModel",
          "model_module_version": "1.2.0",
          "state": {
            "_view_name": "LayoutView",
            "grid_template_rows": null,
            "right": null,
            "justify_content": null,
            "_view_module": "@jupyter-widgets/base",
            "overflow": null,
            "_model_module_version": "1.2.0",
            "_view_count": null,
            "flex_flow": null,
            "width": null,
            "min_width": null,
            "border": null,
            "align_items": null,
            "bottom": null,
            "_model_module": "@jupyter-widgets/base",
            "top": null,
            "grid_column": null,
            "overflow_y": null,
            "overflow_x": null,
            "grid_auto_flow": null,
            "grid_area": null,
            "grid_template_columns": null,
            "flex": null,
            "_model_name": "LayoutModel",
            "justify_items": null,
            "grid_row": null,
            "max_height": null,
            "align_content": null,
            "visibility": null,
            "align_self": null,
            "height": null,
            "min_height": null,
            "padding": null,
            "grid_auto_rows": null,
            "grid_gap": null,
            "max_width": null,
            "order": null,
            "_view_module_version": "1.2.0",
            "grid_template_areas": null,
            "object_position": null,
            "object_fit": null,
            "grid_auto_columns": null,
            "margin": null,
            "display": null,
            "left": null
          }
        },
        "49bdeaac457c46e8ad48276171424ee9": {
          "model_module": "@jupyter-widgets/controls",
          "model_name": "ProgressStyleModel",
          "model_module_version": "1.5.0",
          "state": {
            "_view_name": "StyleView",
            "_model_name": "ProgressStyleModel",
            "description_width": "",
            "_view_module": "@jupyter-widgets/base",
            "_model_module_version": "1.5.0",
            "_view_count": null,
            "_view_module_version": "1.2.0",
            "bar_color": null,
            "_model_module": "@jupyter-widgets/controls"
          }
        },
        "75af3bdc05684a408cdab61f8d3454aa": {
          "model_module": "@jupyter-widgets/base",
          "model_name": "LayoutModel",
          "model_module_version": "1.2.0",
          "state": {
            "_view_name": "LayoutView",
            "grid_template_rows": null,
            "right": null,
            "justify_content": null,
            "_view_module": "@jupyter-widgets/base",
            "overflow": null,
            "_model_module_version": "1.2.0",
            "_view_count": null,
            "flex_flow": null,
            "width": null,
            "min_width": null,
            "border": null,
            "align_items": null,
            "bottom": null,
            "_model_module": "@jupyter-widgets/base",
            "top": null,
            "grid_column": null,
            "overflow_y": null,
            "overflow_x": null,
            "grid_auto_flow": null,
            "grid_area": null,
            "grid_template_columns": null,
            "flex": null,
            "_model_name": "LayoutModel",
            "justify_items": null,
            "grid_row": null,
            "max_height": null,
            "align_content": null,
            "visibility": null,
            "align_self": null,
            "height": null,
            "min_height": null,
            "padding": null,
            "grid_auto_rows": null,
            "grid_gap": null,
            "max_width": null,
            "order": null,
            "_view_module_version": "1.2.0",
            "grid_template_areas": null,
            "object_position": null,
            "object_fit": null,
            "grid_auto_columns": null,
            "margin": null,
            "display": null,
            "left": null
          }
        },
        "41824984fe3e4eb5a6b846c5e737d242": {
          "model_module": "@jupyter-widgets/controls",
          "model_name": "VBoxModel",
          "model_module_version": "1.5.0",
          "state": {
            "_view_name": "VBoxView",
            "_dom_classes": [],
            "_model_name": "VBoxModel",
            "_view_module": "@jupyter-widgets/controls",
            "_model_module_version": "1.5.0",
            "_view_count": null,
            "_view_module_version": "1.5.0",
            "box_style": "",
            "layout": "IPY_MODEL_1394db43bc334b7fb4b1f12ade1ba778",
            "_model_module": "@jupyter-widgets/controls",
            "children": [
              "IPY_MODEL_c50c6edbab1b47b9bb7b1b232c5fb109",
              "IPY_MODEL_83423edc58c044fc928bc9c594f8de2d"
            ]
          }
        },
        "1394db43bc334b7fb4b1f12ade1ba778": {
          "model_module": "@jupyter-widgets/base",
          "model_name": "LayoutModel",
          "model_module_version": "1.2.0",
          "state": {
            "_view_name": "LayoutView",
            "grid_template_rows": null,
            "right": null,
            "justify_content": null,
            "_view_module": "@jupyter-widgets/base",
            "overflow": null,
            "_model_module_version": "1.2.0",
            "_view_count": null,
            "flex_flow": null,
            "width": null,
            "min_width": null,
            "border": null,
            "align_items": null,
            "bottom": null,
            "_model_module": "@jupyter-widgets/base",
            "top": null,
            "grid_column": null,
            "overflow_y": null,
            "overflow_x": null,
            "grid_auto_flow": null,
            "grid_area": null,
            "grid_template_columns": null,
            "flex": null,
            "_model_name": "LayoutModel",
            "justify_items": null,
            "grid_row": null,
            "max_height": null,
            "align_content": null,
            "visibility": null,
            "align_self": null,
            "height": null,
            "min_height": null,
            "padding": null,
            "grid_auto_rows": null,
            "grid_gap": null,
            "max_width": null,
            "order": null,
            "_view_module_version": "1.2.0",
            "grid_template_areas": null,
            "object_position": null,
            "object_fit": null,
            "grid_auto_columns": null,
            "margin": null,
            "display": null,
            "left": null
          }
        },
        "c50c6edbab1b47b9bb7b1b232c5fb109": {
          "model_module": "@jupyter-widgets/controls",
          "model_name": "HBoxModel",
          "model_module_version": "1.5.0",
          "state": {
            "_view_name": "HBoxView",
            "_dom_classes": [],
            "_model_name": "HBoxModel",
            "_view_module": "@jupyter-widgets/controls",
            "_model_module_version": "1.5.0",
            "_view_count": null,
            "_view_module_version": "1.5.0",
            "box_style": "",
            "layout": "IPY_MODEL_b689ea0d76d54a6f8ead43872ddac9a4",
            "_model_module": "@jupyter-widgets/controls",
            "children": [
              "IPY_MODEL_bdc357e7a3a9466a849c9a4ccf3752a3",
              "IPY_MODEL_df7209bfde324910a17b4b224d3b5de9"
            ]
          }
        },
        "b689ea0d76d54a6f8ead43872ddac9a4": {
          "model_module": "@jupyter-widgets/base",
          "model_name": "LayoutModel",
          "model_module_version": "1.2.0",
          "state": {
            "_view_name": "LayoutView",
            "grid_template_rows": null,
            "right": null,
            "justify_content": null,
            "_view_module": "@jupyter-widgets/base",
            "overflow": null,
            "_model_module_version": "1.2.0",
            "_view_count": null,
            "flex_flow": null,
            "width": null,
            "min_width": null,
            "border": null,
            "align_items": null,
            "bottom": null,
            "_model_module": "@jupyter-widgets/base",
            "top": null,
            "grid_column": null,
            "overflow_y": null,
            "overflow_x": null,
            "grid_auto_flow": null,
            "grid_area": null,
            "grid_template_columns": null,
            "flex": null,
            "_model_name": "LayoutModel",
            "justify_items": null,
            "grid_row": null,
            "max_height": null,
            "align_content": null,
            "visibility": null,
            "align_self": null,
            "height": null,
            "min_height": null,
            "padding": null,
            "grid_auto_rows": null,
            "grid_gap": null,
            "max_width": null,
            "order": null,
            "_view_module_version": "1.2.0",
            "grid_template_areas": null,
            "object_position": null,
            "object_fit": null,
            "grid_auto_columns": null,
            "margin": null,
            "display": null,
            "left": null
          }
        },
        "df7209bfde324910a17b4b224d3b5de9": {
          "model_module": "@jupyter-widgets/controls",
          "model_name": "HTMLModel",
          "model_module_version": "1.5.0",
          "state": {
            "_view_name": "HTMLView",
            "style": "IPY_MODEL_4e3f771d695f4db1964cceadcaca27dd",
            "_dom_classes": [],
            "description": "",
            "_model_name": "HTMLModel",
            "placeholder": "​",
            "_view_module": "@jupyter-widgets/controls",
            "_model_module_version": "1.5.0",
            "value": "<h1>You Win!</h1>",
            "_view_count": null,
            "_view_module_version": "1.5.0",
            "description_tooltip": null,
            "_model_module": "@jupyter-widgets/controls",
            "layout": "IPY_MODEL_0ff1eb4424594dd691c8fd9bcea40031"
          }
        },
        "4e3f771d695f4db1964cceadcaca27dd": {
          "model_module": "@jupyter-widgets/controls",
          "model_name": "DescriptionStyleModel",
          "model_module_version": "1.5.0",
          "state": {
            "_view_name": "StyleView",
            "_model_name": "DescriptionStyleModel",
            "description_width": "",
            "_view_module": "@jupyter-widgets/base",
            "_model_module_version": "1.5.0",
            "_view_count": null,
            "_view_module_version": "1.2.0",
            "_model_module": "@jupyter-widgets/controls"
          }
        },
        "0ff1eb4424594dd691c8fd9bcea40031": {
          "model_module": "@jupyter-widgets/base",
          "model_name": "LayoutModel",
          "model_module_version": "1.2.0",
          "state": {
            "_view_name": "LayoutView",
            "grid_template_rows": null,
            "right": null,
            "justify_content": null,
            "_view_module": "@jupyter-widgets/base",
            "overflow": null,
            "_model_module_version": "1.2.0",
            "_view_count": null,
            "flex_flow": null,
            "width": null,
            "min_width": null,
            "border": null,
            "align_items": null,
            "bottom": null,
            "_model_module": "@jupyter-widgets/base",
            "top": null,
            "grid_column": null,
            "overflow_y": null,
            "overflow_x": null,
            "grid_auto_flow": null,
            "grid_area": null,
            "grid_template_columns": null,
            "flex": null,
            "_model_name": "LayoutModel",
            "justify_items": null,
            "grid_row": null,
            "max_height": null,
            "align_content": null,
            "visibility": "hidden",
            "align_self": null,
            "height": null,
            "min_height": null,
            "padding": null,
            "grid_auto_rows": null,
            "grid_gap": null,
            "max_width": null,
            "order": null,
            "_view_module_version": "1.2.0",
            "grid_template_areas": null,
            "object_position": null,
            "object_fit": null,
            "grid_auto_columns": null,
            "margin": null,
            "display": null,
            "left": null
          }
        }
      }
    }
  },
  "cells": [
    {
      "cell_type": "markdown",
      "metadata": {
        "id": "view-in-github",
        "colab_type": "text"
      },
      "source": [
        "<a href=\"https://colab.research.google.com/github/michael-borck/ISYS5002_portfolio/blob/main/mind_reader.ipynb\" target=\"_parent\"><img src=\"https://colab.research.google.com/assets/colab-badge.svg\" alt=\"Open In Colab\"/></a>"
      ]
    },
    {
      "cell_type": "markdown",
      "metadata": {
        "id": "es7DoCDfsnbp"
      },
      "source": [
        "# Mind Reader"
      ]
    },
    {
      "cell_type": "code",
      "metadata": {
        "id": "A4BT5ObNsrWm"
      },
      "source": [
        "import ipywidgets as ipw\n",
        "import random"
      ],
      "execution_count": 1,
      "outputs": []
    },
    {
      "cell_type": "markdown",
      "metadata": {
        "id": "Ya-Z_qEgs1x6"
      },
      "source": [
        "# Create **Button Widgets**"
      ]
    },
    {
      "cell_type": "code",
      "metadata": {
        "colab": {
          "base_uri": "https://localhost:8080/",
          "height": 49,
          "referenced_widgets": [
            "83423edc58c044fc928bc9c594f8de2d",
            "b5b035865fed41d48268c0997319f500",
            "8e95183030e241a29842bf4e92123ead",
            "5453ee1e22924b989c44facdb98fb934",
            "bc473109a8c347d2b3468f20e6296d24",
            "86cc8631e3db4694a675c5fd9cd93866",
            "9f5bef059540400e96c5201e932ca584",
            "3a49b0238c6d4f68a11b490a7c2b1715"
          ]
        },
        "id": "8Yt7BLwos0qs",
        "outputId": "6c60e7f1-ff54-4f7d-a421-7508059fe446"
      },
      "source": [
        "# create the butotns\n",
        "b_zero = ipw.Button(description=\"0\")\n",
        "b_one = ipw.Button(description=\"1\")\n",
        "\n",
        "# layout the widgets\n",
        "btns = ipw.HBox([b_zero, b_one])\n",
        "\n",
        "# display the widgets\n",
        "btns"
      ],
      "execution_count": 2,
      "outputs": [
        {
          "output_type": "display_data",
          "data": {
            "application/vnd.jupyter.widget-view+json": {
              "model_id": "83423edc58c044fc928bc9c594f8de2d",
              "version_minor": 0,
              "version_major": 2
            },
            "text/plain": [
              "HBox(children=(Button(description='0', style=ButtonStyle()), Button(description='1', style=ButtonStyle())))"
            ]
          },
          "metadata": {}
        }
      ]
    },
    {
      "cell_type": "markdown",
      "metadata": {
        "id": "Wo4PR2EHtwDF"
      },
      "source": [
        "# Create **callback function**\n",
        "\n",
        "Assign a action to do when clicked (called callback function)"
      ]
    },
    {
      "cell_type": "code",
      "metadata": {
        "id": "8C09WkyEtciB"
      },
      "source": [
        "def click_zero(b):\n",
        "  update_game(0)\n",
        "b_zero.on_click(click_zero)\n",
        "\n",
        "def click_one(b):\n",
        "  update_game(1)\n",
        "b_one.on_click(click_one)"
      ],
      "execution_count": 3,
      "outputs": []
    },
    {
      "cell_type": "markdown",
      "metadata": {
        "id": "DRDlKdaevbwf"
      },
      "source": [
        "# Create **scoreboard**\n",
        "\n",
        "Use two progress bar widgets to show a scoreboard"
      ]
    },
    {
      "cell_type": "code",
      "metadata": {
        "colab": {
          "base_uri": "https://localhost:8080/",
          "height": 81,
          "referenced_widgets": [
            "bdc357e7a3a9466a849c9a4ccf3752a3",
            "01f4e8602eb04fd7a996f1245e8f1064",
            "0b619e5c50fd4ca0993324fe1bca6411",
            "2b9686d82c07448f90122e2a5ed96bc8",
            "282d4dbac3384ad0922b870b169eb5d5",
            "a92668cbc3ca41229b8e1464c609bb06",
            "49bdeaac457c46e8ad48276171424ee9",
            "75af3bdc05684a408cdab61f8d3454aa"
          ]
        },
        "id": "BnoumOI2uHIG",
        "outputId": "0f01521e-7a65-4c1e-c828-686b240cd644"
      },
      "source": [
        "# create the progress basr\n",
        "user_score = ipw.IntProgress(value=0, min=0, max=10, description = 'You')\n",
        "bot_score = ipw.IntProgress(value=0, min=0, max=10, description = 'Bot')\n",
        "\n",
        "# layout the widgets\n",
        "scoreboard = ipw.VBox([user_score, bot_score])\n",
        "\n",
        "# display the widget\n",
        "scoreboard"
      ],
      "execution_count": 17,
      "outputs": [
        {
          "output_type": "display_data",
          "data": {
            "application/vnd.jupyter.widget-view+json": {
              "model_id": "bdc357e7a3a9466a849c9a4ccf3752a3",
              "version_minor": 0,
              "version_major": 2
            },
            "text/plain": [
              "VBox(children=(IntProgress(value=0, description='You', max=10), IntProgress(value=0, description='Bot', max=10…"
            ]
          },
          "metadata": {}
        }
      ]
    },
    {
      "cell_type": "markdown",
      "metadata": {
        "id": "mauCsAcVwo_T"
      },
      "source": [
        "#Create **game over widget**"
      ]
    },
    {
      "cell_type": "code",
      "metadata": {
        "id": "pZEwWpZ9wwn_"
      },
      "source": [
        "final_msg = ipw.HTML(\"<h1>You Win!</h1>\")"
      ],
      "execution_count": 5,
      "outputs": []
    },
    {
      "cell_type": "markdown",
      "metadata": {
        "id": "xBXHxxYcxBnm"
      },
      "source": [
        "# Create **game board**\n",
        "\n",
        "Lets layout all the widgets above"
      ]
    },
    {
      "cell_type": "code",
      "metadata": {
        "colab": {
          "base_uri": "https://localhost:8080/",
          "height": 113,
          "referenced_widgets": [
            "41824984fe3e4eb5a6b846c5e737d242",
            "1394db43bc334b7fb4b1f12ade1ba778",
            "c50c6edbab1b47b9bb7b1b232c5fb109",
            "83423edc58c044fc928bc9c594f8de2d",
            "b689ea0d76d54a6f8ead43872ddac9a4",
            "bdc357e7a3a9466a849c9a4ccf3752a3",
            "df7209bfde324910a17b4b224d3b5de9",
            "b5b035865fed41d48268c0997319f500",
            "8e95183030e241a29842bf4e92123ead",
            "5453ee1e22924b989c44facdb98fb934",
            "01f4e8602eb04fd7a996f1245e8f1064",
            "0b619e5c50fd4ca0993324fe1bca6411",
            "2b9686d82c07448f90122e2a5ed96bc8",
            "4e3f771d695f4db1964cceadcaca27dd",
            "0ff1eb4424594dd691c8fd9bcea40031",
            "bc473109a8c347d2b3468f20e6296d24",
            "86cc8631e3db4694a675c5fd9cd93866",
            "9f5bef059540400e96c5201e932ca584",
            "3a49b0238c6d4f68a11b490a7c2b1715",
            "282d4dbac3384ad0922b870b169eb5d5",
            "a92668cbc3ca41229b8e1464c609bb06",
            "49bdeaac457c46e8ad48276171424ee9",
            "75af3bdc05684a408cdab61f8d3454aa"
          ]
        },
        "id": "d-ygLOWuxKZI",
        "outputId": "3df71854-ba91-4146-a7e7-4492172ef213"
      },
      "source": [
        "final_msg = ipw.HTML(\"<h1>You Win!</h1>\")\n",
        "# layout the game\n",
        "score_result = ipw.HBox([scoreboard, final_msg])\n",
        "game_board = ipw.VBox([score_result, btns])\n",
        "\n",
        "final_msg.layout.visibility = \"hidden\"\n",
        "\n",
        "# display the gameboard\n",
        "game_board"
      ],
      "execution_count": 21,
      "outputs": [
        {
          "output_type": "display_data",
          "data": {
            "application/vnd.jupyter.widget-view+json": {
              "model_id": "41824984fe3e4eb5a6b846c5e737d242",
              "version_minor": 0,
              "version_major": 2
            },
            "text/plain": [
              "VBox(children=(HBox(children=(VBox(children=(IntProgress(value=10, description='You', max=10), IntProgress(val…"
            ]
          },
          "metadata": {}
        }
      ]
    },
    {
      "cell_type": "code",
      "metadata": {
        "id": "etKzIMZ41-wM"
      },
      "source": [
        ""
      ],
      "execution_count": 7,
      "outputs": []
    },
    {
      "cell_type": "markdown",
      "metadata": {
        "id": "SzDqEMMouXAI"
      },
      "source": [
        "# Function **update_game**\n",
        "\n",
        "Initiall create a empty function (subb) will update we we know more\n",
        "\n",
        "1. The bot guess you number using usr_history\n",
        "2. If bot guess your move, adds one to bot's score, if worn adds one to your score\n",
        "3. Frist to ten wins!\n"
      ]
    },
    {
      "cell_type": "code",
      "metadata": {
        "id": "9u3coTfjucWU"
      },
      "source": [
        "def update_game(user_choice):\n",
        "  # let computer make a random choice\n",
        "  computer_choice = random.randint(0,1)\n",
        "  \n",
        "  # did computer guess right, updat scores\n",
        "  if computer_choice == user_choice:\n",
        "    bot_score.value += 1\n",
        "  else:\n",
        "    user_score.value += 1\n",
        "\n",
        "  # has the bot won? \n",
        "  if user_score.value == 10 or bot_score.value == 10:\n",
        "    if bot_score.value == 10:\n",
        "      final_msg.value = '<h1>You Loose!</h1>'\n",
        "    \n",
        "    # make the final message visible\n",
        "    final_msg.layout.visibility = \"visible\"\n",
        "\n",
        "    # game is over so disable the buttons\n",
        "    b_zero.layout.visibility = 'hidden'\n",
        "    b_one.disable = True\n",
        "  return\n"
      ],
      "execution_count": 20,
      "outputs": []
    },
    {
      "cell_type": "code",
      "metadata": {
        "id": "YJY8S77HvL2y"
      },
      "source": [
        "# user_history = []\n",
        "# num_ones = sum(user_history)\n",
        "# num_turns = len(user_history)\n",
        "# prob = num_ones / num_turns\n",
        "# computer_choice = random.choices([0,1],weights=((1-prob),prob),k=1)"
      ],
      "execution_count": null,
      "outputs": []
    }
  ]
}