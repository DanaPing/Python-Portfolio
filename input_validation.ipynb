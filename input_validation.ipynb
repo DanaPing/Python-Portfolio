{
 "cells": [
  {
   "cell_type": "markdown",
   "id": "b5835b0c",
   "metadata": {},
   "source": [
    "# Input Validation\n",
    "\n",
    "Input validation code verifies that user supplied data, such as text from the input() function, is formatted appropriately.\n",
    "\n",
    "* try/except\n",
    "* isdigit()\n",
    "* pyinputplus\n",
    "\n",
    "## try/except"
   ]
  },
  {
   "cell_type": "code",
   "execution_count": null,
   "id": "695b1f5f",
   "metadata": {},
   "outputs": [],
   "source": []
  },
  {
   "cell_type": "markdown",
   "id": "acc7252b",
   "metadata": {},
   "source": [
    "## isdigit()"
   ]
  },
  {
   "cell_type": "code",
   "execution_count": null,
   "id": "5f98c241",
   "metadata": {},
   "outputs": [],
   "source": []
  },
  {
   "cell_type": "markdown",
   "id": "18c00dc3",
   "metadata": {},
   "source": [
    "## Module: pyinputs"
   ]
  },
  {
   "cell_type": "code",
   "execution_count": null,
   "id": "dfe1740b",
   "metadata": {},
   "outputs": [],
   "source": []
  }
 ],
 "metadata": {
  "kernelspec": {
   "display_name": "Python 3 (ipykernel)",
   "language": "python",
   "name": "python3"
  },
  "language_info": {
   "codemirror_mode": {
    "name": "ipython",
    "version": 3
   },
   "file_extension": ".py",
   "mimetype": "text/x-python",
   "name": "python",
   "nbconvert_exporter": "python",
   "pygments_lexer": "ipython3",
   "version": "3.9.6"
  }
 },
 "nbformat": 4,
 "nbformat_minor": 5
}
