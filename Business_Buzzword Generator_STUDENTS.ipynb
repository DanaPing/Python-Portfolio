{
 "cells": [
  {
   "cell_type": "markdown",
   "id": "f8b21259-c1a0-4ecb-a02f-e35565841067",
   "metadata": {},
   "source": [
    "# Business Buzzword Generator\n",
    "\n",
    "Lets write a real-world business application using Python.   Want to write a program to genrate business phrases.  The program takes three lists of words, randomly picks one word from each list, combines the words into a phrase, and then prints out the phrase. Here is the psuedocode:\n",
    "\n",
    "    importing the random module\n",
    "    make three lists, one of buzzword, one of actions, and one of outcomes\n",
    "    randomly choose one buzzword, action, and outcome from each list\n",
    "    now build the phrase by \"adding\" the words together\n",
    "    output the phrase\n",
    "    \n",
    "A good use of pseudocode is each line becomes comments in the code. Each line of pseudo code has been pasted into a cell below.  Try to implement each as python statement or statements."
   ]
  },
  {
   "cell_type": "code",
   "execution_count": 1,
   "id": "6b9a2fc6-f8ae-4778-a5e7-9659136091fd",
   "metadata": {},
   "outputs": [],
   "source": [
    "# importing the random module"
   ]
  },
  {
   "cell_type": "code",
   "execution_count": 2,
   "id": "52db4e24-c2e3-46f2-8a96-0fece1f437f2",
   "metadata": {},
   "outputs": [],
   "source": [
    "#  make three lists, one of buzzwords, one of actions, and one of outcomes"
   ]
  },
  {
   "cell_type": "code",
   "execution_count": 3,
   "id": "2538b8fa-1dc9-4bfd-84d8-6753b9a88218",
   "metadata": {},
   "outputs": [],
   "source": [
    "# randomly choose one buzzword, action, and outcome from each list"
   ]
  },
  {
   "cell_type": "code",
   "execution_count": 4,
   "id": "95c40fea-40d0-49e6-afe5-c181da731368",
   "metadata": {},
   "outputs": [],
   "source": [
    "# build the phrase by \"adding\" the words together"
   ]
  },
  {
   "cell_type": "code",
   "execution_count": 5,
   "id": "3e36c71d-ef4b-40d5-ac7f-a7717460e28f",
   "metadata": {},
   "outputs": [],
   "source": [
    "# output the phrase"
   ]
  },
  {
   "cell_type": "code",
   "execution_count": null,
   "id": "71838d24-05d5-44cb-ae5a-1195fd805622",
   "metadata": {},
   "outputs": [],
   "source": []
  }
 ],
 "metadata": {
  "kernelspec": {
   "display_name": "Python 3 (ipykernel)",
   "language": "python",
   "name": "python3"
  },
  "language_info": {
   "codemirror_mode": {
    "name": "ipython",
    "version": 3
   },
   "file_extension": ".py",
   "mimetype": "text/x-python",
   "name": "python",
   "nbconvert_exporter": "python",
   "pygments_lexer": "ipython3",
   "version": "3.9.6"
  }
 },
 "nbformat": 4,
 "nbformat_minor": 5
}
