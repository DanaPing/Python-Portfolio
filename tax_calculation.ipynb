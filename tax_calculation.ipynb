{
  "nbformat": 4,
  "nbformat_minor": 0,
  "metadata": {
    "colab": {
      "name": "tax_calculation.ipynb",
      "provenance": [],
      "include_colab_link": true
    },
    "kernelspec": {
      "name": "python3",
      "display_name": "Python 3"
    },
    "language_info": {
      "name": "python"
    }
  },
  "cells": [
    {
      "cell_type": "markdown",
      "metadata": {
        "id": "view-in-github",
        "colab_type": "text"
      },
      "source": [
        "<a href=\"https://colab.research.google.com/github/michael-borck/ISYS5002_portfolio/blob/main/tax_calculation.ipynb\" target=\"_parent\"><img src=\"https://colab.research.google.com/assets/colab-badge.svg\" alt=\"Open In Colab\"/></a>"
      ]
    },
    {
      "cell_type": "markdown",
      "metadata": {
        "id": "bVMwNyExqHgH"
      },
      "source": [
        "Write a program the prompts the user for their income and caclualtes the tax payable.\n",
        "\n",
        "[Resident tax rates 2021–22\n",
        "Taxable income](https://www.ato.gov.au/rates/individual-income-tax-rates/)\n",
        "\n",
        "Income            | Tax on this income \n",
        "------------------|----------------------\n",
        "0 – \\$18,200       | Nil\n",
        "\\$18,201 – \\$45,000 | 19 cents for each \\$1 over \\$18,200\n",
        "\\$45,001 – \\$120,000 | \\$5,092 plus 32.5 cents for each \\$1 over \\$45,000\n",
        "\\$120,001 – \\$180,000 |  \\$29,467 plus 37 cents for each \\$1 over \\$120,000\n",
        "\\$180,001 and over | \\$51,667 plus 45 cents for each \\$1 over \\$180,000\n",
        "\n"
      ]
    },
    {
      "cell_type": "markdown",
      "metadata": {
        "id": "GQPi2a6VI0rf"
      },
      "source": [
        "Steps\n",
        "\n",
        "1. Get the income\n",
        "2. Calcualte the tax payable"
      ]
    },
    {
      "cell_type": "code",
      "metadata": {
        "id": "AuzMU2B7J-q4"
      },
      "source": [
        "def get_income():\n",
        "  '''\n",
        "  This funciton will promtp the user for the income\n",
        "  and return the value\n",
        "  '''\n",
        "  income = int(input(\"What is your income for the year? \"))\n",
        "  print(\"Your income is \" ,income)\n",
        "  return income\n",
        "\n"
      ],
      "execution_count": 7,
      "outputs": []
    },
    {
      "cell_type": "code",
      "metadata": {
        "id": "bIGrqfz_Mbt8"
      },
      "source": [
        "def calculate_tax(income):\n",
        "  if income <= 18200:\n",
        "    tax_payable = 0\n",
        "  elif 18200 < income <= 45000:\n",
        "    tax_payable = 0.19 * (income - 18200)\n",
        "  elif 45000 < income < 120000:\n",
        "    tax_payable = 5092 + 0.32 * (income - 45000)\n",
        "\n",
        "  return tax_payable\n"
      ],
      "execution_count": 8,
      "outputs": []
    },
    {
      "cell_type": "code",
      "metadata": {
        "id": "pd8m2I1uMuAu"
      },
      "source": [
        "# 'Main line'\n",
        "\n",
        "# Step 1\n",
        "income = get_income()\n",
        "\n",
        "# Step 2\n",
        "tax = calculate_tax(income)\n",
        "\n",
        "print(\"Your tax payable is \", tax)"
      ],
      "execution_count": null,
      "outputs": []
    }
  ]
}