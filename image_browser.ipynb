{
  "nbformat": 4,
  "nbformat_minor": 0,
  "metadata": {
    "colab": {
      "name": "image_browser.ipynb",
      "provenance": [],
      "authorship_tag": "ABX9TyO+PVkkgnpUitNMl2gZINpn",
      "include_colab_link": true
    },
    "kernelspec": {
      "name": "python3",
      "display_name": "Python 3"
    },
    "language_info": {
      "name": "python"
    },
    "widgets": {
      "application/vnd.jupyter.widget-state+json": {
        "febd3e6e068c447cb33a34559ce91d19": {
          "model_module": "@jupyter-widgets/controls",
          "model_name": "VBoxModel",
          "model_module_version": "1.5.0",
          "state": {
            "_view_name": "VBoxView",
            "_dom_classes": [
              "widget-interact"
            ],
            "_model_name": "VBoxModel",
            "_view_module": "@jupyter-widgets/controls",
            "_model_module_version": "1.5.0",
            "_view_count": null,
            "_view_module_version": "1.5.0",
            "box_style": "",
            "layout": "IPY_MODEL_031a140399f244a7bd4cdbadb4985459",
            "_model_module": "@jupyter-widgets/controls",
            "children": [
              "IPY_MODEL_d9688143f8f54487b67e4d305fec6d88",
              "IPY_MODEL_386465a44f8d4639a0b00f63398f7c95"
            ]
          }
        },
        "031a140399f244a7bd4cdbadb4985459": {
          "model_module": "@jupyter-widgets/base",
          "model_name": "LayoutModel",
          "model_module_version": "1.2.0",
          "state": {
            "_view_name": "LayoutView",
            "grid_template_rows": null,
            "right": null,
            "justify_content": null,
            "_view_module": "@jupyter-widgets/base",
            "overflow": null,
            "_model_module_version": "1.2.0",
            "_view_count": null,
            "flex_flow": null,
            "width": null,
            "min_width": null,
            "border": null,
            "align_items": null,
            "bottom": null,
            "_model_module": "@jupyter-widgets/base",
            "top": null,
            "grid_column": null,
            "overflow_y": null,
            "overflow_x": null,
            "grid_auto_flow": null,
            "grid_area": null,
            "grid_template_columns": null,
            "flex": null,
            "_model_name": "LayoutModel",
            "justify_items": null,
            "grid_row": null,
            "max_height": null,
            "align_content": null,
            "visibility": null,
            "align_self": null,
            "height": null,
            "min_height": null,
            "padding": null,
            "grid_auto_rows": null,
            "grid_gap": null,
            "max_width": null,
            "order": null,
            "_view_module_version": "1.2.0",
            "grid_template_areas": null,
            "object_position": null,
            "object_fit": null,
            "grid_auto_columns": null,
            "margin": null,
            "display": null,
            "left": null
          }
        },
        "d9688143f8f54487b67e4d305fec6d88": {
          "model_module": "@jupyter-widgets/controls",
          "model_name": "IntSliderModel",
          "model_module_version": "1.5.0",
          "state": {
            "_view_name": "IntSliderView",
            "style": "IPY_MODEL_1a6f3b5b05fa4bdba972299f2037621b",
            "_dom_classes": [],
            "description": "i",
            "step": 1,
            "_model_name": "IntSliderModel",
            "orientation": "horizontal",
            "max": 1796,
            "_view_module": "@jupyter-widgets/controls",
            "_model_module_version": "1.5.0",
            "value": 1463,
            "_view_count": null,
            "disabled": false,
            "_view_module_version": "1.5.0",
            "min": 0,
            "continuous_update": true,
            "readout_format": "d",
            "description_tooltip": null,
            "readout": true,
            "_model_module": "@jupyter-widgets/controls",
            "layout": "IPY_MODEL_65863b38357b4cd2bc0919f64b1767cf"
          }
        },
        "386465a44f8d4639a0b00f63398f7c95": {
          "model_module": "@jupyter-widgets/output",
          "model_name": "OutputModel",
          "model_module_version": "1.0.0",
          "state": {
            "_view_name": "OutputView",
            "msg_id": "",
            "_dom_classes": [],
            "_model_name": "OutputModel",
            "outputs": [
              {
                "output_type": "display_data",
                "data": {
                  "image/png": "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\n",
                  "text/plain": "<Figure size 432x288 with 1 Axes>"
                },
                "metadata": {
                  "needs_background": "light"
                }
              }
            ],
            "_view_module": "@jupyter-widgets/output",
            "_model_module_version": "1.0.0",
            "_view_count": null,
            "_view_module_version": "1.0.0",
            "layout": "IPY_MODEL_c891acf498074a04b4ca6570eaa41e32",
            "_model_module": "@jupyter-widgets/output"
          }
        },
        "1a6f3b5b05fa4bdba972299f2037621b": {
          "model_module": "@jupyter-widgets/controls",
          "model_name": "SliderStyleModel",
          "model_module_version": "1.5.0",
          "state": {
            "_view_name": "StyleView",
            "handle_color": null,
            "_model_name": "SliderStyleModel",
            "description_width": "",
            "_view_module": "@jupyter-widgets/base",
            "_model_module_version": "1.5.0",
            "_view_count": null,
            "_view_module_version": "1.2.0",
            "_model_module": "@jupyter-widgets/controls"
          }
        },
        "65863b38357b4cd2bc0919f64b1767cf": {
          "model_module": "@jupyter-widgets/base",
          "model_name": "LayoutModel",
          "model_module_version": "1.2.0",
          "state": {
            "_view_name": "LayoutView",
            "grid_template_rows": null,
            "right": null,
            "justify_content": null,
            "_view_module": "@jupyter-widgets/base",
            "overflow": null,
            "_model_module_version": "1.2.0",
            "_view_count": null,
            "flex_flow": null,
            "width": null,
            "min_width": null,
            "border": null,
            "align_items": null,
            "bottom": null,
            "_model_module": "@jupyter-widgets/base",
            "top": null,
            "grid_column": null,
            "overflow_y": null,
            "overflow_x": null,
            "grid_auto_flow": null,
            "grid_area": null,
            "grid_template_columns": null,
            "flex": null,
            "_model_name": "LayoutModel",
            "justify_items": null,
            "grid_row": null,
            "max_height": null,
            "align_content": null,
            "visibility": null,
            "align_self": null,
            "height": null,
            "min_height": null,
            "padding": null,
            "grid_auto_rows": null,
            "grid_gap": null,
            "max_width": null,
            "order": null,
            "_view_module_version": "1.2.0",
            "grid_template_areas": null,
            "object_position": null,
            "object_fit": null,
            "grid_auto_columns": null,
            "margin": null,
            "display": null,
            "left": null
          }
        },
        "c891acf498074a04b4ca6570eaa41e32": {
          "model_module": "@jupyter-widgets/base",
          "model_name": "LayoutModel",
          "model_module_version": "1.2.0",
          "state": {
            "_view_name": "LayoutView",
            "grid_template_rows": null,
            "right": null,
            "justify_content": null,
            "_view_module": "@jupyter-widgets/base",
            "overflow": null,
            "_model_module_version": "1.2.0",
            "_view_count": null,
            "flex_flow": null,
            "width": null,
            "min_width": null,
            "border": null,
            "align_items": null,
            "bottom": null,
            "_model_module": "@jupyter-widgets/base",
            "top": null,
            "grid_column": null,
            "overflow_y": null,
            "overflow_x": null,
            "grid_auto_flow": null,
            "grid_area": null,
            "grid_template_columns": null,
            "flex": null,
            "_model_name": "LayoutModel",
            "justify_items": null,
            "grid_row": null,
            "max_height": null,
            "align_content": null,
            "visibility": null,
            "align_self": null,
            "height": null,
            "min_height": null,
            "padding": null,
            "grid_auto_rows": null,
            "grid_gap": null,
            "max_width": null,
            "order": null,
            "_view_module_version": "1.2.0",
            "grid_template_areas": null,
            "object_position": null,
            "object_fit": null,
            "grid_auto_columns": null,
            "margin": null,
            "display": null,
            "left": null
          }
        }
      }
    }
  },
  "cells": [
    {
      "cell_type": "markdown",
      "metadata": {
        "id": "view-in-github",
        "colab_type": "text"
      },
      "source": [
        "<a href=\"https://colab.research.google.com/github/michael-borck/ISYS5002_portfolio/blob/main/image_browser.ipynb\" target=\"_parent\"><img src=\"https://colab.research.google.com/assets/colab-badge.svg\" alt=\"Open In Colab\"/></a>"
      ]
    },
    {
      "cell_type": "code",
      "metadata": {
        "id": "v4LMbPp3Y_us"
      },
      "source": [
        "%matplotlib inline\n",
        "import matplotlib.pyplot as plt\n",
        "from ipywidgets import interact\n",
        "from sklearn import datasets"
      ],
      "execution_count": 2,
      "outputs": []
    },
    {
      "cell_type": "code",
      "metadata": {
        "id": "uC_jv_pOZGmM"
      },
      "source": [
        "digits = datasets.load_digits()\n",
        "\n",
        "def browse_images(digits):\n",
        "    n = len(digits.images)\n",
        "    def view_image(i):\n",
        "        plt.imshow(digits.images[i], cmap=plt.cm.gray_r, interpolation='nearest')\n",
        "        plt.title('Training: %s' % digits.target[i])\n",
        "        plt.show()\n",
        "    interact(view_image, i=(0,n-1))"
      ],
      "execution_count": 3,
      "outputs": []
    },
    {
      "cell_type": "code",
      "metadata": {
        "colab": {
          "base_uri": "https://localhost:8080/",
          "height": 313,
          "referenced_widgets": [
            "febd3e6e068c447cb33a34559ce91d19",
            "031a140399f244a7bd4cdbadb4985459",
            "d9688143f8f54487b67e4d305fec6d88",
            "386465a44f8d4639a0b00f63398f7c95",
            "1a6f3b5b05fa4bdba972299f2037621b",
            "65863b38357b4cd2bc0919f64b1767cf",
            "c891acf498074a04b4ca6570eaa41e32"
          ]
        },
        "id": "pTtERNhiZUJl",
        "outputId": "ec6f61f5-bd3a-4532-e15c-fda8fb77d8e8"
      },
      "source": [
        "browse_images(digits)"
      ],
      "execution_count": 4,
      "outputs": [
        {
          "output_type": "display_data",
          "data": {
            "application/vnd.jupyter.widget-view+json": {
              "model_id": "febd3e6e068c447cb33a34559ce91d19",
              "version_minor": 0,
              "version_major": 2
            },
            "text/plain": [
              "interactive(children=(IntSlider(value=898, description='i', max=1796), Output()), _dom_classes=('widget-intera…"
            ]
          },
          "metadata": {}
        }
      ]
    },
    {
      "cell_type": "code",
      "metadata": {
        "id": "HyVjD2FNZW-i"
      },
      "source": [
        ""
      ],
      "execution_count": null,
      "outputs": []
    }
  ]
}